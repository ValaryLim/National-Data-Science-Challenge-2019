{
 "cells": [
  {
   "cell_type": "markdown",
   "metadata": {},
   "source": [
    "## More Machine Learning Models"
   ]
  },
  {
   "cell_type": "code",
   "execution_count": 1,
   "metadata": {},
   "outputs": [],
   "source": [
    "import pandas as pd\n",
    "import numpy as np\n",
    "\n",
    "from sklearn.preprocessing import LabelEncoder\n",
    "from collections import defaultdict\n",
    "from nltk.corpus import wordnet as wn\n",
    "\n",
    "from sklearn.feature_extraction.text import TfidfVectorizer\n",
    "\n",
    "# Import machine learing algorithms\n",
    "from sklearn import model_selection, naive_bayes, svm, tree\n",
    "from sklearn.neighbors import KNeighborsClassifier\n",
    "from sklearn.linear_model import LogisticRegression\n",
    "\n",
    "# Import accuracy checker\n",
    "from sklearn.metrics import accuracy_score\n",
    "\n",
    "# Import pickle to save models\n",
    "import pickle"
   ]
  },
  {
   "cell_type": "code",
   "execution_count": 2,
   "metadata": {},
   "outputs": [],
   "source": [
    "with open('train_df_cleaned.pickle', 'rb') as train:\n",
    "    train_df = pickle.load(train)"
   ]
  },
  {
   "cell_type": "code",
   "execution_count": 4,
   "metadata": {},
   "outputs": [],
   "source": [
    "# Split the train and test data\n",
    "train_X, test_X, train_Y, test_Y = model_selection.train_test_split(\n",
    "    train_df['title_final'], train_df['Category'],test_size=0.3)"
   ]
  },
  {
   "cell_type": "code",
   "execution_count": 5,
   "metadata": {},
   "outputs": [
    {
     "data": {
      "text/html": [
       "<div>\n",
       "<style scoped>\n",
       "    .dataframe tbody tr th:only-of-type {\n",
       "        vertical-align: middle;\n",
       "    }\n",
       "\n",
       "    .dataframe tbody tr th {\n",
       "        vertical-align: top;\n",
       "    }\n",
       "\n",
       "    .dataframe thead th {\n",
       "        text-align: right;\n",
       "    }\n",
       "</style>\n",
       "<table border=\"1\" class=\"dataframe\">\n",
       "  <thead>\n",
       "    <tr style=\"text-align: right;\">\n",
       "      <th></th>\n",
       "      <th>itemid</th>\n",
       "      <th>title</th>\n",
       "      <th>Category</th>\n",
       "      <th>image_path</th>\n",
       "      <th>title_final</th>\n",
       "    </tr>\n",
       "  </thead>\n",
       "  <tbody>\n",
       "    <tr>\n",
       "      <th>0</th>\n",
       "      <td>307504</td>\n",
       "      <td>[nyx, sex, bomb, pallete, natural, palette]</td>\n",
       "      <td>0</td>\n",
       "      <td>beauty_image/6b2e9cbb279ac95703348368aa65da09.jpg</td>\n",
       "      <td>['nyx', 'sex', 'bomb', 'pallete', 'natural', '...</td>\n",
       "    </tr>\n",
       "    <tr>\n",
       "      <th>1</th>\n",
       "      <td>461203</td>\n",
       "      <td>[etude, house, precious, mineral, any, cushion...</td>\n",
       "      <td>1</td>\n",
       "      <td>beauty_image/20450222d857c9571ba8fa23bdedc8c9.jpg</td>\n",
       "      <td>['etude', 'house', 'precious', 'mineral', 'cus...</td>\n",
       "    </tr>\n",
       "    <tr>\n",
       "      <th>2</th>\n",
       "      <td>3592295</td>\n",
       "      <td>[milani, rose, powder, blush]</td>\n",
       "      <td>2</td>\n",
       "      <td>beauty_image/6a5962bed605a3dd6604ca3a4278a4f9.jpg</td>\n",
       "      <td>['milani', 'rise', 'powder', 'blush']</td>\n",
       "    </tr>\n",
       "    <tr>\n",
       "      <th>3</th>\n",
       "      <td>4460167</td>\n",
       "      <td>[etude, house, baby, sweet, sugar, powder]</td>\n",
       "      <td>3</td>\n",
       "      <td>beauty_image/56987ae186e8a8e71fcc5a261ca485da.jpg</td>\n",
       "      <td>['etude', 'house', 'baby', 'sweet', 'sugar', '...</td>\n",
       "    </tr>\n",
       "    <tr>\n",
       "      <th>4</th>\n",
       "      <td>5853995</td>\n",
       "      <td>[bedak, revlon, color, stay, aqua, mineral, ma...</td>\n",
       "      <td>3</td>\n",
       "      <td>beauty_image/9c6968066ebab57588c2f757a240d8b9.jpg</td>\n",
       "      <td>['bedak', 'revlon', 'color', 'stay', 'aqua', '...</td>\n",
       "    </tr>\n",
       "  </tbody>\n",
       "</table>\n",
       "</div>"
      ],
      "text/plain": [
       "    itemid                                              title  Category  \\\n",
       "0   307504        [nyx, sex, bomb, pallete, natural, palette]         0   \n",
       "1   461203  [etude, house, precious, mineral, any, cushion...         1   \n",
       "2  3592295                      [milani, rose, powder, blush]         2   \n",
       "3  4460167         [etude, house, baby, sweet, sugar, powder]         3   \n",
       "4  5853995  [bedak, revlon, color, stay, aqua, mineral, ma...         3   \n",
       "\n",
       "                                          image_path  \\\n",
       "0  beauty_image/6b2e9cbb279ac95703348368aa65da09.jpg   \n",
       "1  beauty_image/20450222d857c9571ba8fa23bdedc8c9.jpg   \n",
       "2  beauty_image/6a5962bed605a3dd6604ca3a4278a4f9.jpg   \n",
       "3  beauty_image/56987ae186e8a8e71fcc5a261ca485da.jpg   \n",
       "4  beauty_image/9c6968066ebab57588c2f757a240d8b9.jpg   \n",
       "\n",
       "                                         title_final  \n",
       "0  ['nyx', 'sex', 'bomb', 'pallete', 'natural', '...  \n",
       "1  ['etude', 'house', 'precious', 'mineral', 'cus...  \n",
       "2              ['milani', 'rise', 'powder', 'blush']  \n",
       "3  ['etude', 'house', 'baby', 'sweet', 'sugar', '...  \n",
       "4  ['bedak', 'revlon', 'color', 'stay', 'aqua', '...  "
      ]
     },
     "execution_count": 5,
     "metadata": {},
     "output_type": "execute_result"
    }
   ],
   "source": [
    "train_df.head()"
   ]
  },
  {
   "cell_type": "code",
   "execution_count": 11,
   "metadata": {},
   "outputs": [],
   "source": [
    "Tfidf_vect = TfidfVectorizer(max_features=5000)\n",
    "Tfidf_vect.fit(train_df['title_final'])\n",
    "train_X_Tfidf = Tfidf_vect.transform(train_X)\n",
    "test_X_Tfidf = Tfidf_vect.transform(test_X)"
   ]
  },
  {
   "cell_type": "code",
   "execution_count": 7,
   "metadata": {},
   "outputs": [
    {
     "name": "stdout",
     "output_type": "stream",
     "text": [
      "{'nyx': 3119, 'bomb': 567, 'pallete': 3245, 'natural': 3033, 'palette': 3241, 'etude': 1367, 'house': 1959, 'precious': 3534, 'mineral': 2869, 'cushion': 1063, 'pearl': 3299, 'aura': 216, 'puff': 3593, 'milani': 2856, 'rise': 3773, 'powder': 3518, 'blush': 538, 'baby': 242, 'sweet': 4364, 'sugar': 4313, 'bedak': 361, 'revlon': 3755, 'color': 918, 'stay': 4255, 'aqua': 164, 'make': 2663, 'dr': 1227, 'pure': 3605, 'whiten': 4871, 'cream': 1026, 'chanel': 805, 'snail': 4161, 'white': 4869, 'original': 3183, 'sunprise': 4333, 'proof': 3579, 'spf': 4215, 'eyebrow': 1413, 'satuan': 3885, 'rp': 3814, 'pc': 3292, 'monistat': 2940, 'chafe': 800, 'relief': 3715, 'gel': 1662, 'tea': 4429, 'balm': 270, 'meet': 2758, 'matte': 2725, 'laneige': 2419, 'water': 4844, 'base': 306, 'cc': 769, 'pa': 3213, 'giordani': 1697, 'gold': 1743, 'age': 54, 'defy': 1116, 'compact': 947, 'foundation': 1569, 'dengan': 1128, 'perfect': 3361, 'cover': 1009, 'body': 551, 'shop': 4049, 'refill': 3698, 'moisture': 2930, 'lancome': 2418, 'subtil': 4307, 'long': 2576, 'lasting': 2439, 'blusher': 539, 'colour': 925, 'veil': 4756, 'missha': 2895, 'line': 2526, 'friends': 1589, 'magic': 2653, 'elf': 1309, 'acne': 24, 'fight': 1488, 'beige': 367, 'biru': 480, 'city': 858, 'concealer': 956, 'contour': 966, 'pink': 3424, 'vital': 4792, 'special': 4210, 'trial': 4619, 'kit': 2312, 'isi': 2094, 'cleanse': 873, 'bb': 334, 'cr': 1021, 'sale': 3845, 'plus': 3460, 'premium': 3540, 'hadalabo': 1809, 'gokujyun': 1742, 'alpha': 100, 'ultimate': 4694, 'anti': 147, 'lotion': 2596, 'tony': 4570, 'moly': 2937, 'eyeliner': 1415, 'hera': 1887, 'wardah': 4836, 'renew': 3728, 'disc': 1183, 'shiseido': 4043, 'nude': 3105, 'shu': 4059, 'uemura': 4684, 'light': 2511, 'bulb': 657, 'sarange': 3874, 'bogosipo': 555, 'pact': 3223, 'deep': 1107, 'free': 1581, 'mask': 2710, 'sample': 3861, 'eye': 1412, 'shadow': 4012, 'muslimah': 3009, 'bu': 641, 'sophie': 4191, 'paris': 3269, 'spot': 4229, 'solution': 4183, 'luminous': 2622, 'liquid': 2552, 'hand': 1829, 'glow': 1723, 'complexion': 950, 'extra': 1409, 'virgin': 4787, 'bare': 300, 'loose': 2590, 'emina': 1323, 'cosmetic': 991, 'preloved': 3538, 'maybelline': 2741, 'super': 4338, 'fresh': 1586, 'night': 3069, 'kat': 2228, 'von': 4811, 'shade': 4010, 'friend': 1587, 'sally': 3851, 'brown': 630, 'mary': 2706, 'lou': 2598, 'manizer': 2681, 'minion': 2878, 'edition': 1280, 'nivea': 3081, 'men': 2782, 'post': 3510, 'shave': 4021, 'lighten': 2512, 'two': 4675, 'way': 4851, 'cake': 700, 'theraskin': 4518, 'kl': 2318, 'sexy': 4004, 'mama': 2672, 'defense': 1112, 'dd': 1101, 'photoready': 3400, 'insta': 2060, 'fix': 1512, 'stick': 4263, 'big': 459, 'tip': 4546, 'la': 2396, 'tulipe': 4646, 'powdery': 3519, 'facial': 1425, 'spray': 4230, 'pratista': 3532, 'zero': 4986, 'sebum': 3918, 'korea': 2356, 'hydrate': 1981, 'aloe': 97, 'vera': 4762, 'clear': 876, 'smooth': 4159, 'press': 3545, 'face': 1420, 'oil': 3136, 'control': 970, 'jordana': 2167, 'bronze': 626, 'uv': 4737, 'mist': 2897, 'pre': 3533, 'order': 3167, 'angel': 133, 'bake': 265, 'cleansing': 875, 'oriflame': 3180, 'wajah': 4824, 'yang': 4946, 'wangi': 4831, 'nya': 3114, 'tahan': 4386, 'lama': 2413, 'sangat': 3870, 'nyaman': 3115, 'di': 1158, 'pakai': 3234, 'bayar': 330, 'tempat': 4446, 'spons': 4226, 'pembersih': 3318, 'fiber': 1486, 'jelly': 2143, 'hijau': 1909, 'ultra': 4696, 'limit': 2524, 'innisfree': 2057, 'wear': 4854, 'sunblock': 4326, 'siang': 4061, 'aman': 106, 'bpom': 598, 'loreal': 2591, 'true': 4633, 'match': 2719, 'affinitone': 51, 'stag': 4242, 'day': 1100, 'sariayu': 3876, 'ala': 82, 'kuning': 2383, 'pengantin': 3332, 'everyday': 1386, 'dream': 1233, 'satin': 3883, 'skin': 4110, 'catrice': 763, 'illusion': 2016, 'transparent': 4605, 'matt': 2724, 'travel': 4607, 'satu': 3884, 'slot': 4143, 'garnier': 1648, 'complete': 948, 'best': 441, 'ac': 15, 'clean': 872, 'mild': 2857, 'botanica': 583, 'beauty': 352, 'tool': 4572, 'aprilskin': 163, 'glam': 1706, 'cosrx': 994, 'lovely': 2601, 'bourjois': 590, 'healty': 1871, 'balance': 267, 'cat': 760, 'wink': 4889, 'aha': 60, 'wonder': 4903, 'skinfood': 4114, 'mushroom': 3004, 'multi': 2984, 'care': 743, 'pigeon': 3412, 'teen': 4434, 'squalane': 4234, 'transclucent': 4598, 'tabur': 4385, 'pelembap': 3312, 'dan': 1079, 'malam': 2667, 'safi': 3837, 'malaysia': 2669, 'ertos': 1354, 'murah': 2996, 'ampuh': 123, 'produk': 3571, 'terbaru': 4470, 'bronzer': 627, 'kualitas': 2372, 'terbaik': 4467, 'mac': 2642, 'sensitive': 3970, 'last': 2438, 'one': 3151, 'velvet': 4759, 'cherry': 825, 'scrub': 3904, 'little': 2560, 'krim': 2369, 'kecantikan': 2242, 'untuk': 4726, 'muka': 2983, 'mata': 2717, 'bentuk': 394, 'cair': 698, 'mencerahkan': 2786, 'kombinasi': 2346, 'kontur': 2355, 'april': 162, 'snow': 4167, 'stand': 4246, 'correct': 984, 'honey': 1940, 'new': 3057, 'logo': 2570, 'putih': 3612, 'susu': 4355, 'bahama': 261, 'beach': 342, 'creamy': 1029, 'peach': 3295, 'ml': 2906, 'dijual': 1171, 'kylie': 2395, 'lucent': 2611, 'magique': 2655, 'berjerawat': 407, 'langsat': 2421, 'bd': 340, 'tile': 4538, 'bandung': 283, 'paket': 3237, 'wet': 4864, 'wild': 4881, 'megaglo': 2760, 'highlight': 1900, 'fair': 1429, 'terlaris': 4486, 'green': 1775, 'sleep': 4128, 'pack': 3219, 'total': 4585, 'repair': 3730, 'wrinkle': 4915, 'reduce': 3690, 'royal': 3813, 'fit': 1507, 'poreless': 3500, 'ready': 3673, 'roll': 3792, 'heart': 1873, 'ball': 269, 'dewy': 1154, 'buff': 651, 'tabung': 4384, 'kuas': 2374, 'brush': 634, 'set': 3996, 'bulu': 658, 'gradasi': 1758, 'merah': 2805, 'countour': 1001, 'suncare': 4328, 'tonymoly': 4571, 'bcdation': 338, 'serum': 3993, 'lumi': 2615, 'pixy': 3436, 'uvw': 4740, 'twc': 4668, 'ochre': 3126, 'walet': 4826, 'whitening': 4872, 'hn': 1924, 'crystal': 1050, 'promo': 3575, 'ultima': 4693, 'ii': 2005, 'delicate': 1119, 'translucent': 4601, 'moisturizer': 2934, 'blur': 533, 'black': 488, 'diskon': 1190, 'auto': 224, 'pencil': 3328, 'collagen': 913, 'pagi': 3228, 'jerawat': 2148, 'play': 3451, 'lt': 2607, 'pro': 3566, 'stila': 4267, 'cheek': 821, 'duo': 1251, 'beautify': 351, 'block': 516, 'termurah': 4493, 'turun': 4662, 'harga': 1850, 'finish': 1498, 'kiss': 2309, 'brighten': 618, 'perfection': 3362, 'lumiere': 2617, 'share': 4018, 'jar': 2128, 'primer': 3558, 'giorgio': 1698, 'armani': 175, 'power': 3520, 'fabric': 1419, 'longwear': 2585, 'high': 1899, 'tension': 4459, 'variant': 4752, 'secret': 3922, 'key': 2284, 'hada': 1808, 'labo': 2399, 'pilih': 3416, 'warna': 4838, 'usa': 4732, 'tumpuk': 4652, 'susun': 4356, 'pressed': 3546, 'dha': 1157, 'kemasan': 2256, 'badan': 252, 'yg': 4954, 'bagus': 259, 'prime': 3557, 'pore': 3498, 'minimize': 2876, 'ret': 3746, 'miracle': 2889, 'food': 1559, 'real': 3675, 'patch': 3282, 'bukan': 654, 'seperti': 3976, 'photofocus': 3398, 'photo': 3397, 'focus': 1552, 'med': 2752, 'zalfa': 4974, 'jual': 2174, 'jafra': 2112, 'radiance': 3639, 'broad': 621, 'spectrum': 4211, 'lari': 2432, 'padat': 3226, 'basah': 305, 'hot': 1954, 'perawatan': 3354, 'kulit': 2381, 'tubuh': 4642, 'asli': 199, 'ori': 3178, 'berkualitas': 414, 'poudre': 3516, 'universelle': 4721, 'libre': 2504, 'rorec': 3803, 'air': 67, 'wonderwear': 4904, 'grosir': 1785, 'silky': 4082, 'flower': 1540, 'bright': 617, 'biocream': 472, 'series': 3988, 'coty': 998, 'airspun': 71, 'coverage': 1010, 'qweena': 3631, 'baru': 303, 'glansie': 1710, 'flek': 1525, 'sabun': 3832, 'batang': 312, 'bobbi': 550, 'oz': 3212, 'pal': 3238, 'rouge': 3810, 'lipstick': 2548, 'like': 2518, 'viva': 4795, 'moist': 2928, 'inez': 2044, 'gr': 1755, 'focallure': 1551, 'highlighter': 1901, 'refil': 3697, 'marcks': 2691, 'obral': 3123, 'betty': 444, 'jenis': 2145, 'normal': 3090, 'faceshop': 1423, 'full': 1602, 'size': 4106, 'exclusive': 1391, 'glamglow': 1707, 'sachet': 3834, 'masker': 2712, 'seller': 3950, 'sunscreen': 4335, 'pusat': 3608, 'holder': 1928, 'lead': 2460, 'flash': 1518, 'daily': 1072, 'strobing': 4297, 'fanbo': 1442, 'compac': 945, 'sponge': 4225, 'kn': 2330, 'bioaqua': 471, 'memutihkan': 2781, 'mica': 2835, 'holika': 1931, 'petit': 3391, 'exlusive': 1395, 'master': 2714, 'flush': 1544, 'smashbox': 4153, 'camera': 710, 'benefit': 389, 'hoola': 1949, 'quickie': 3628, 'sparkle': 4207, 'keren': 2270, 'bebas': 357, 'bopeng': 576, 'jaminan': 2122, 'pemutih': 3321, 'obat': 3120, 'kiloan': 2300, 'ukuran': 4687, 'gram': 1764, 'klinik': 2322, 'immortal': 2026, 'wash': 4842, 'bioderma': 473, 'dry': 1243, 'dermacol': 1137, 'apple': 159, 'ppc': 3526, 'pulvus': 3596, 'hydro': 1984, 'active': 30, 'cool': 974, 'microfine': 2839, 'shampoo': 4015, 'xxl': 4939, 'volume': 4809, 'dual': 1247, 'embos': 1316, 'moistfull': 2929, 'gratis': 1770, 'coklat': 909, 'queen': 3625, 'look': 2587, 'nature': 3035, 'republic': 3735, 'medium': 2757, 'alami': 83, 'kpw': 2365, 'grey': 1779, 'tude': 4643, 'eyeshadow': 1416, 'blanc': 498, 'expert': 1399, 'kode': 2337, 'lite': 2557, 'beautiful': 349, 'pond': 3485, 'cordyceps': 981, 'bening': 392, 'thin': 4522, 'lightening': 2513, 'amaze': 108, 'quen': 3626, 'sensational': 3967, 'vivid': 4798, 'girl': 1699, 'hd': 1861, 'illuminate': 2012, 'id': 1997, 'erto': 1353, 'tarte': 4416, 'win': 4883, 'skincare': 4111, 'quality': 3622, 'buckwheat': 649, 'ongkir': 3154, 'nars': 3026, 'sun': 4324, 'bronzing': 628, 'spl': 4219, 'corrector': 988, 'toner': 4567, 'soothe': 4189, 'maybeline': 2740, 'banget': 284, 'stock': 4271, 'pinkish': 3425, 'sp': 4199, 'lusinan': 2630, 'tutup': 4665, 'arrival': 181, 'batik': 317, 'channel': 807, 'belum': 385, 'dipakai': 1180, 'healthy': 1870, 'mattifying': 2726, 'ivory': 2102, 'mufe': 2980, 'step': 4259, 'list': 2555, 'unik': 4716, 'sari': 3875, 'illuskin': 2017, 'cotton': 997, 'shopee': 4050, 'seri': 3987, 'clinique': 882, 'even': 1375, 'well': 4861, 'makeup': 2666, 'mousse': 2965, 'venus': 4760, 'formula': 1565, 'argan': 171, 'gila': 1690, 'obrall': 3124, 'time': 4540, 'golden': 1744, 'cari': 745, 'soothing': 4190, 'promoo': 3576, 'ampoule': 122, 'reffil': 3694, 'laris': 2433, 'neutral': 3053, 'warm': 4837, 'ali': 89, 'sulam': 4319, 'tato': 4419, 'creme': 1034, 'packaging': 3221, 'stok': 4274, 'flat': 1520, 'thailand': 4513, 'herbal': 1889, 'hpai': 1962, 'tone': 4566, 'keluarga': 2254, 'inside': 2059, 'pen': 3322, 'purbasari': 3604, 'count': 999, 'everwhite': 1384, 'blue': 531, 'soft': 4175, 'orizinal': 3187, 'mustika': 3012, 'ratu': 3663, 'tasik': 4417, 'kemuning': 2261, 'besar': 438, 'lit': 2556, 'colourpop': 927, 'price': 3552, 'ever': 1378, 'coral': 979, 'sulwhasoo': 4322, 'evenfair': 1376, 'komedo': 2347, 'bekas': 369, 'semifull': 3957, 'case': 752, 'ysl': 4965, 'flormar': 1537, 'update': 4728, 'kosmetik': 2361, 'ponds': 3486, 'marshmallow': 2702, 'advance': 48, 'dynamic': 1263, 'cleanser': 874, 'pabrik': 3215, 'bird': 477, 'define': 1114, 'refine': 3699, 'lightning': 2515, 'box': 594, 'fhotofocus': 1484, 'implora': 2028, 'im': 2019, 'qween': 3630, 'goji': 1740, 'ajaib': 74, 'penuaan': 3342, 'dini': 1174, 'pot': 3511, 'barang': 295, 'silahkan': 4072, 'tube': 4641, 'ringan': 3769, 'item': 2100, 'disney': 1191, 'mike': 2854, 'ms': 2970, 'msi': 2972, 'silver': 4084, 'ion': 2080, 'elsheskin': 1312, 'treatment': 4611, 'classic': 868, 'star': 4249, 'strawberry': 4284, 'naturgo': 3037, 'mini': 2873, 'hydramild': 1980, 'conceal': 954, 'yellow': 4952, 'tanpa': 4411, 'sakura': 3843, 'murni': 3002, 'dasar': 1090, 'yayasan': 4949, 'le': 2459, 'biospray': 476, 'mawar': 2729, 'bio': 470, 'peel': 3305, 'estee': 1361, 'lauder': 2445, 'double': 1223, 'shimmer': 4033, 'jeju': 2140, 'volcanic': 4808, 'blackhead': 490, 'booster': 575, 'pria': 3550, 'wanita': 4834, 'kristal': 2370, 'jart': 2132, 'defence': 1110, 'clarins': 866, 'perfector': 3363, 'beenpink': 364, 'lose': 2593, 'efek': 1284, 'studio': 4300, 'finishing': 1500, 'good': 1745, 'product': 3568, 'beli': 375, 'bubuk': 647, 'glitter': 1716, 'serbuk': 3986, 'gliter': 1715, 'snoopy': 4166, 'terjamin': 4482, 'kualitasnya': 2373, 'saem': 3835, 'condition': 961, 'cuci': 1055, 'gudang': 1796, 'bestseller': 443, 'pomade': 3484, 'anastasia': 128, 'beverly': 445, 'hill': 1911, 'camouflage': 716, 'concentrate': 959, 'ginseng': 1695, 'ex': 1389, 'exquisite': 1404, 'aquaboost': 165, 'bahan': 262, 'pp': 3525, 'seaweed': 3915, 'primary': 3556, 'tomato': 4563, 'deoonard': 1132, 'orgasm': 3176, 'professional': 3573, 'drop': 1242, 'shoot': 4046, 'pump': 3597, 'fullsize': 1606, 'terfavorit': 4476, 'mario': 2695, 'badescu': 253, 'banting': 291, 'chusion': 849, 'bonus': 571, 'design': 1143, 'essence': 1359, 'ee': 1282, 'infallible': 2045, 'meriah': 2814, 'cerah': 787, 'merona': 2817, 'use': 4734, 'racikan': 3637, 'algae': 88, 'oily': 3137, 'layer': 2454, 'instant': 2065, 'eraser': 1347, 'dark': 1088, 'circle': 856, 'kkw': 2317, 'sheer': 4024, 'moreskin': 2948, 'kanebo': 2210, 'suisai': 4316, 'blemish': 504, 'kak': 2198, 'supreme': 4347, 'kakak': 2199, 'touch': 4587, 'moisturize': 2933, 'shine': 4035, 'cookie': 973, 'parfait': 3267, 'feel': 1466, 'tissue': 4552, 'protector': 3585, 'hanasui': 1828, 'egg': 1289, 'dy': 1261, 'martha': 2703, 'tint': 4543, 'rimmel': 3767, 'london': 2575, 'rosy': 3809, 'collaboration': 912, 'whitehead': 4870, 'ramadhan': 3650, 'function': 1610, 'davis': 1099, 'hitam': 1920, 'flawles': 1521, 'pencerah': 3326, 'glowing': 1725, 'milk': 2860, 'bsy': 638, 'soap': 4171, 'recommend': 3686, 'canmake': 723, 'red': 3687, 'stik': 4265, 'armando': 174, 'caruso': 749, 'basic': 309, 'blotting': 522, 'troll': 4627, 'po': 3463, 'replika': 3734, 'bottle': 586, 'klt': 2325, 'sand': 3865, 'colorstay': 923, 'emas': 1313, 'lab': 2397, 'bling': 511, 'intensive': 2071, 'sebamed': 3916, 'pimple': 3418, 'mengontrol': 2794, 'minyak': 2886, 'bear': 347, 'illuminator': 2015, 'sunbeam': 4325, 'spring': 4231, 'thebalm': 4514, 'makeover': 2664, 'camuflage': 719, 'limited': 2525, 'factory': 1427, 'ice': 1992, 'kiehls': 2297, 'dior': 1176, 'deal': 1103, 'package': 3220, 'japan': 2126, 'beiges': 368, 'ordinary': 3169, 'ascorbic': 191, 'acid': 22, 'za': 4971, 'take': 4393, 'home': 1937, 'orange': 3164, 'bigsale': 461, 'terbatas': 4471, 'habisin': 1807, 'trend': 4614, 'pelembab': 3311, 'cheeklit': 822, 'porefessional': 3499, 'rescue': 3737, 'lucu': 2613, 'fusion': 1616, 'ink': 2054, 'anna': 144, 'sui': 4315, 'fl': 1514, 'lengkap': 2484, 'perempuan': 3360, 'gadis': 1625, 'pipi': 3429, 'lembut': 2481, 'miss': 2894, 'dijamin': 1170, 'blender': 506, 'warni': 4839, 'tokoku': 4560, 'profesional': 3572, 'remover': 3721, 'protection': 3583, 'suncreen': 4329, 'front': 1593, 'breast': 608, 'isolation': 2096, 'garansi': 1642, 'resmi': 3743, 'dermo': 1138, 'waterproof': 4846, 'kitoderm': 2314, 'shape': 4017, 'tape': 4413, 'counturing': 1005, 'chic': 828, 'trendy': 4616, 'blushon': 541, 'edisi': 1279, 'natur': 3032, 'penghilang': 3336, 'atau': 209, 'hello': 1879, 'halo': 1819, 'mumer': 2992, 'cathy': 762, 'doll': 1213, 'pollution': 3475, 'coverall': 1011, 'mo': 2911, 'dapat': 1083, 'menutupi': 2800, 'sk': 4107, 'uk': 4686, 'ok': 3138, 'oke': 3139, 'hydra': 1979, 'mate': 2721, 'peripera': 3369, 'dal': 1074, 'airy': 72, 'reffill': 3695, 'cure': 1061, 'sebelum': 3917, 'kehabisan': 2248, 'al': 81, 'antiaging': 148, 'instabright': 2061, 'oreal': 3170, 'clinical': 881, 'laser': 2436, 'tull': 4648, 'jye': 2188, 'pelangi': 3309, 'primaderma': 3555, 'prima': 3554, 'derma': 1135, 'huamianli': 1967, 'start': 4252, 'bha': 452, 'brow': 629, 'quad': 3620, 'banana': 278, 'warungsakti': 4841, 'aloevera': 98, 'lebaran': 2468, 'besaran': 439, 'party': 3273, 'luxury': 2638, 'saemmul': 3836, 'diamond': 1160, 'halus': 1823, 'mulus': 2989, 'naked': 3022, 'definition': 1115, 'instan': 2064, 'palet': 3240, 'portable': 3506, 'pesta': 3388, 'organik': 3174, 'nasa': 3027, 'micellar': 2836, 'trim': 4622, 'kering': 2272, 'muscle': 3003, 'flawless': 1522, 'banyak': 293, 'orchid': 3166, 'enrich': 1339, 'ecer': 1273, 'calm': 706, 'co': 897, 'transformer': 4600, 'seed': 3929, 'kekinian': 2250, 'terakhir': 4462, 'single': 4097, 'corset': 989, 'yu': 4966, 'chun': 848, 'mei': 2762, 'jepang': 2147, 'latulipe': 2444, 'oxy': 3209, 'esenses': 1355, 'kontrol': 2354, 'abadi': 5, 'jamin': 2121, 'olay': 3143, 'effect': 1286, 'teens': 4435, 'kf': 2289, 'moisturizing': 2935, 'sunblok': 4327, 'atmosphere': 210, 'lipstic': 2547, 'recipe': 3684, 'revolution': 3756, 'youth': 4964, 'ekslusif': 1297, 'nu': 3103, 'sh': 4008, 'distributor': 1196, 'infusion': 2051, 'instaperfect': 2066, 'model': 2922, 'extreme': 1411, 'uva': 4738, 'uvb': 4739, 'ngetren': 3064, 'dus': 1254, 'lilac': 2520, 'terbukti': 4473, 'blend': 505, 'cp': 1019, 'superstay': 4342, 'suplier': 4343, 'inklasting': 2055, 'lavender': 2452, 'import': 2030, 'tinggi': 4542, 'sarogayo': 3877, 'facestudio': 1424, 'intense': 2070, 'mizzu': 2905, 'watt': 4848, 'purple': 3607, 'terkini': 4485, 'lip': 2533, 'collection': 916, 'liner': 2528, 'exp': 1397, 'film': 1490, 'bulan': 655, 'ini': 2053, 'powerstay': 3524, 'eity': 1291, 'eight': 1290, 'tell': 4442, 'let': 2494, 'know': 2335, 'acnederm': 25, 'treat': 4609, 'sensitif': 3969, 'pastel': 3280, 'clay': 870, 'clarify': 865, 'syantik': 4372, 'bgt': 450, 'nge': 3063, 'hit': 1919, 'cute': 1066, 'cartoon': 748, 'bersih': 432, 'shot': 4053, 'bisque': 483, 'holiday': 1930, 'fill': 1489, 'kilap': 2298, 'scar': 3894, 'lace': 2401, 'lurus': 2628, 'rambut': 3651, 'palsu': 3247, 'multifungsi': 2987, 'mineralight': 2870, 'fade': 1428, 'viral': 4786, 'rewind': 3757, 'palgantong': 3242, 'pict': 3408, 'scarlett': 3897, 'indah': 2038, 'birthday': 478, 'glossier': 1721, 'sasimi': 3880, 'concept': 960, 'back': 247, 'brand': 604, 'head': 1865, 'cottect': 996, 'fashion': 1453, 'woman': 4901, 'lady': 2406, 'imagic': 2021, 'prep': 3543, 'erl': 1351, 'fine': 1494, 'fairness': 1430, 'chrystal': 845, 'salep': 3849, 'lift': 2510, 'pengangkat': 3331, 'bintik': 469, 'martin': 2704, 'member': 2777, 'tiga': 4534, 'batrisyia': 322, 'ekstra': 1298, 'eksklusif': 1296, 'jovi': 2170, 'korektor': 2358, 'cantik': 728, 'setting': 4001, 'lisa': 2553, 'blackpink': 495, 'botanical': 584, 'ben': 386, 'nye': 3117, 'dissy': 1194, 'love': 2600, 'niacin': 3065, 'ungu': 4714, 'burgundy': 669, 'ta': 4379, 'capsule': 734, 'torrid': 4580, 'fantastic': 1447, 'mudah': 2979, 'perancis': 3353, 'penghalus': 3335, 'war': 4835, 'touche': 4588, 'eclat': 1275, 'within': 4896, 'mint': 2883, 'grape': 1767, 'miniso': 2879, 'peiyen': 3307, 'babe': 241, 'reducer': 3691, 'forever': 1561, 'petal': 3389, 'icon': 1995, 'pearlescent': 3300, 'sister': 4104, 'pensil': 3341, 'ed': 1277, 'lumitouch': 2623, 'crown': 1047, 'canopy': 727, 'terupdate': 4502, 'max': 2730, 'factor': 1426, 'facefinity': 1422, 'hightlight': 1906, 'temulawak': 4454, 'holo': 1933, 'widya': 4877, 'kartu': 2222, 'lingkaran': 2530, 'camo': 715, 'ra': 3634, 'ale': 87, 'jkt': 2162, 'minimizing': 2877, 'wadah': 4819, 'paling': 3243, 'pac': 3216, 'silkygirl': 4083, 'bergaransi': 402, 'siap': 4062, 'diorder': 1177, 'place': 3441, 'nakeds': 3023, 'peri': 3368, 'pera': 3351, 'gigi': 1688, 'kinclong': 2302, 'bayi': 331, 'freckle': 1580, 'removal': 3719, 'magical': 2654, 'blp': 527, 'sace': 3833, 'nutrition': 3110, 'silkworm': 4081, 'restock': 3745, 'amp': 120, 'vampire': 4746, 'gluta': 1729, 'luminoso': 2621, 'pretty': 3548, 'transparan': 4602, 'eleora': 1307, 'mesh': 2820, 'spon': 4224, 'blossom': 520, 'hologram': 1934, 'mix': 2901, 'dicari': 1163, 'poreraser': 3501, 'colourbox': 926, 'eyexpert': 1417, 'optimum': 3163, 'hi': 1894, 'berminyak': 423, 'discount': 1187, 'segel': 3931, 'bank': 287, 'foil': 1553, 'lipstik': 2549, 'tanaman': 4407, 'mewah': 2829, 'elixir': 1310, 'pengiriman': 3337, 'cepat': 784, 'capacity': 731, 'bar': 294, 'somebymi': 4184, 'kill': 2299, 'dalam': 1075, 'menit': 2795, 'com': 930, 'ct': 1052, 'hypoallergenic': 1986, 'marina': 2694, 'sweat': 4361, 'de': 1102, 'creator': 1031, 'novo': 3102, 'brightening': 620, 'weightless': 4859, 'mi': 2833, 'jaya': 2136, 'mandiri': 2677, 'penyegar': 3346, 'neogen': 3049, 'gauze': 1654, 'pad': 3224, 'platinum': 3450, 'lagi': 2407, 'aircushion': 69, 'buruan': 671, 'dapetin': 1086, 'berm': 422, 'maestro': 2650, 'nourish': 3097, 'tersedia': 4500, 'cod': 905, 'fondation': 1557, 'dari': 1087, 'sake': 3841, 'faced': 1421, 'iope': 2081, 'blooming': 519, 'correction': 986, 'dear': 1104, 'superfresh': 4341, 'goat': 1734, 'dandelion': 1081, 'dew': 1151, 'tree': 4612, 'fast': 1455, 'tabir': 4381, 'surya': 4352, 'autobalm': 225, 'hawaii': 1858, 'gerai': 1678, 'bunda': 661, 'zoya': 4993, 'milky': 2861, 'emk': 1324, 'glowin': 1724, 'tinted': 4545, 'reveal': 3752, 'exposure': 1402, 'emboss': 1317, 'lipat': 2534, 'beam': 345, 'mbk': 2746, 'bau': 327, 'keringat': 2273, 'lucky': 2612, 'chouette': 840, 'laura': 2446, 'mercier': 2809, 'everlasting': 1382, 'pilihan': 3417, 'selfie': 3948, 'label': 2398, 'hour': 1957, 'lipgloss': 2539, 'authentic': 223, 'hetty': 1891, 'nugrahati': 3106, 'skii': 4109, 'paula': 3286, 'choice': 836, 'resist': 3740, 'cellular': 779, 'dessert': 1149, 'ocean': 3125, 'teint': 4438, 'rich': 3764, 'signature': 4068, 'hemat': 1882, 'radiant': 3640, 'menyamarkan': 2801, 'noda': 3083, 'burberry': 668, 'type': 4678, 'fajar': 1434, 'tan': 4405, 'tie': 4532, 'dye': 1262, 'fixer': 1513, 'speed': 4212, 'boy': 595, 'sisa': 4100, 'sarung': 3878, 'jari': 2129, 'sutra': 4358, 'choose': 838, 'boat': 549, 'kid': 2295, 'pt': 3587, 'payudara': 3289, 'ashanty': 195, 'roche': 3786, 'posay': 3508, 'effaclar': 1285, 'skinny': 4117, 'coverfit': 1012, 'korean': 2357, 'persistent': 3378, 'cony': 972, 'aritaum': 172, 'thai': 4512, 'sz': 4378, 'action': 27, 'ca': 691, 'invisible': 2077, 'shield': 4031, 'bestdeal': 442, 'aa': 0, 'automatic': 227, 'etudehouse': 1368, 'pita': 3432, 'msglow': 2971, 'mineralize': 2871, 'li': 2502, 'krem': 2368, 'emulsion': 1329, 'retouch': 3749, 'erase': 1346, 'babalah': 240, 'comouflage': 944, 'concealear': 955, 'mg': 2832, 'hide': 1897, 'lion': 2532, 'pair': 3231, 'medicate': 2755, 'vol': 4807, 'bless': 508, 'eceran': 1274, 'withcase': 4895, 'klairs': 2319, 'illumination': 2014, 'supple': 4344, 'hanya': 1841, 'mandi': 2676, 'sleek': 4127, 'return': 3751, 'boom': 573, 'highlite': 1902, 'con': 953, 'tour': 4591, 'fluid': 1543, 'skinnova': 4116, 'trisia': 4626, 'vienna': 4778, 'hair': 1814, 'lash': 2437, 'lakme': 2411, 'absolute': 11, 'reinvent': 3710, 'tren': 4613, 'voyage': 4815, 'dokter': 1211, 'away': 233, 'flex': 1527, 'apieu': 154, 'dermablend': 1136, 'dip': 1179, 'vacation': 4741, 'maggie': 2652, 'berhadiah': 405, 'langsung': 2422, 'ayu': 237, 'dwiguna': 1260, 'shin': 4034, 'maycheer': 2742, 'pan': 3248, 'fleecy': 1524, 'slimming': 4139, 'pelangsing': 3310, 'enamel': 1332, 'rna': 3781, 'jade': 2109, 'bh': 451, 'piece': 3410, 'vanilla': 4749, 'anisa': 140, 'wa': 4818, 'marc': 2689, 'jacob': 2107, 'chat': 815, 'lyese': 2640, 'atas': 207, 'bawah': 328, 'kertas': 2276, 'bacterial': 251, 'rivera': 3777, 'sandy': 3869, 'hoitong': 1927, 'top': 4573, 'peau': 3303, 'sol': 4178, 'terlarisss': 4488, 'pokemon': 3469, 'pikachu': 3415, 'endo': 1335, 'refresh': 3702, 'aromatic': 180, 'naturel': 3036, 'do': 1205, 'centella': 783, 'mizon': 2904, 'go': 1733, 'benton': 393, 'bee': 362, 'content': 965, 'steam': 4256, 'cetaphil': 794, 'finisher': 1499, 'ulang': 4688, 'shiny': 4038, 'koleksi': 2343, 'segera': 3932, 'miliki': 2858, 'bubble': 646, 'metal': 2822, 'bag': 254, 'essential': 1360, 'hourglass': 1958, 'champagne': 803, 'jacquard': 2108, 'bibir': 458, 'fnp': 1549, 'morphe': 2952, 'pick': 3407, 'menghilangkan': 2792, 'fullset': 1603, 'handmade': 1833, 'tebal': 4430, 'panjang': 3256, 'form': 1563, 'hadid': 1811, 'rockateur': 3789, 'dude': 1250, 'terkeren': 4484, 'termodis': 4492, 'porcelain': 3497, 'corrective': 987, 'bliss': 513, 'snowise': 4169, 'sampel': 3859, 'trendi': 4615, 'wow': 4913, 'end': 1334, 'gilaa': 1691, 'citra': 857, 'pearly': 3302, 'maple': 2687, 'blushing': 540, 'macora': 2647, 'plastik': 3447, 'tekstur': 4439, 'manis': 2680, 'remove': 3720, 'fairnpink': 1431, 'fairpink': 1432, 'pallet': 3244, 'massage': 2713, 'topaz': 4574, 'agen': 56, 'custom': 1064, 'pesanan': 3386, 'khusus': 2293, 'aksesoris': 78, 'alat': 84, 'technique': 4431, 'maskara': 2711, 'cle': 871, 'smokey': 4158, 'terpopuler': 4499, 'nail': 3021, 'vita': 4791, 'helwa': 1880, 'hazeline': 1859, 'mutiara': 3013, 'cina': 854, 'aneka': 132, 'optimals': 3162, 'revitalift': 3753, 'terpercaya': 4498, 'gell': 1664, 'nikmati': 3076, 'olive': 3147, 'rabbit': 3635, 'pengontrol': 3339, 'kose': 2360, 'upate': 4727, 'nose': 3091, 'cheapbrand': 817, 'vit': 4790, 'bath': 316, 'firm': 1502, 'buffet': 652, 'halwey': 1824, 'fa': 1418, 'nylon': 3118, 'moisturiser': 2932, 'terlengkap': 4489, 'bmks': 543, 'bounce': 589, 'menakjubkan': 2783, 'daldal': 1077, 'zan': 4976, 'tabita': 4382, 'artis': 186, 'beautyful': 354, 'mirabella': 2888, 'pixi': 3435, 'darling': 1089, 'permen': 3372, 'triple': 4624, 'kirim': 2307, 'mlm': 2907, 'spc': 4208, 'fu': 1599, 'rice': 3763, 'student': 4299, 'male': 2670, 'foam': 1550, 'eyelash': 1414, 'extension': 1407, 'mascara': 2708, 'lacoco': 2402, 'divine': 1202, 'temukan': 4453, 'caramel': 738, 'filter': 1491, 'lustrous': 2633, 'stylist': 4304, 'encre': 1333, 'mega': 2759, 'khasiatnya': 2292, 'revitalize': 3754, 'grade': 1760, 'urban': 4731, 'decay': 1105, 'dewi': 1153, 'awet': 234, 'pons': 3488, 'mantap': 2685, 'utk': 4736, 'crush': 1049, 'tom': 4562, 'berhologram': 406, 'put': 3610, 'lid': 2506, 'melembabkan': 2768, 'unboxed': 4709, 'pudaier': 3590, 'dua': 1246, 'sisi': 4101, 'slick': 4135, 'hadir': 1812, 'skindinavia': 4112, 'butter': 682, 'privia': 3565, 'theraderm': 4516, 'renewal': 3729, 'witch': 4894, 'purify': 3606, 'terhot': 4480, 'joues': 2169, 'contraste': 969, 'freeongkirtanpasyarat': 1583, 'merek': 2812, 'pena': 3323, 'vnatural': 4803, 'evolution': 1388, 'er': 1343, 'protect': 3582, 'gloss': 1720, 'ganda': 1638, 'op': 3159, 'gn': 1732, 'ver': 4761, 'secretkey': 3923, 'wand': 4830, 'xp': 4931, 'ren': 3723, 'odern': 3130, 'mermaid': 2816, 'pigment': 3414, 'rainbow': 3643, 'midnight': 2848, 'activate': 28, 'avoskin': 231, 'rollover': 3794, 'reaction': 3671, 'halolight': 1820, 'luminizing': 2620, 'kepala': 2267, 'caring': 746, 'pom': 3483, 'na': 3016, 'punya': 3602, 'mtx': 2974, 'skinmtx': 4115, 'repairwear': 3731, 'vip': 4785, 'gift': 1686, 'chocolate': 835, 'domba': 1215, 'hari': 1851, 'lc': 2456, 'sekarang': 3939, 'simply': 4090, 'latte': 2442, 'penuh': 3343, 'penutup': 3344, 'mochi': 2917, 'square': 4235, 'girls': 1701, 'combo': 936, 'varian': 4751, 'awal': 232, 'tahun': 4388, 'version': 4764, 'romantic': 3796, 'tester': 4505, 'luminizer': 2619, 'cindy': 855, 'kondisi': 2350, 'clinic': 880, 'screen': 3902, 'cell': 778, 'passion': 3278, 'photogenic': 3399, 'wak': 4825, 'doyok': 1225, 'sempurna': 3959, 'cantikskincare': 729, 'include': 2037, 'shell': 4028, 'banila': 286, 'rilakkuma': 3766, 'chrome': 844, 'impor': 2029, 'cm': 895, 'meira': 2763, 'gleam': 1714, 'forte': 1566, 'turbo': 4656, 'instain': 2063, 'dapatkan': 1084, 'pearls': 3301, 'lock': 2567, 'botol': 585, 'microfinishing': 2841, 'physician': 3402, 'small': 4146, 'gentle': 1672, 'esther': 1363, 'ab': 3, 'code': 906, 'seventh': 4003, 'neck': 3043, 'leher': 2475, 'tropic': 4629, 'freeman': 1582, 'dompet': 1216, 'cha': 798, 'vitalumiere': 4793, 'countur': 1004, 'menow': 2798, 'bloom': 518, 'pelindung': 3313, 'sinar': 4093, 'daun': 1098, 'grab': 1756, 'california': 704, 'mark': 2696, 'vitamin': 4794, 'skinfinish': 4113, 'smart': 4148, 'jewel': 2154, 'surge': 4351, 'serbaguna': 3985, 'blot': 521, 'delicated': 1120, 'biore': 475, 'pacific': 3218, 'phyto': 3403, 'monster': 2943, 'inc': 2033, 'pigme': 3413, 'liter': 2558, 'extract': 1410, 'dermovate': 1139, 'saudi': 3886, 'taupe': 4423, 'style': 4301, 'cashmere': 755, 'emoji': 1325, 'low': 2603, 'ph': 3394, 'morning': 2950, 'abh': 9, 'derm': 1134, 'tropical': 4630, 'wafer': 4820, 'drink': 1240, 'produck': 3567, 'silk': 4080, 'tahap': 4387, 'moon': 2946, 'bangkok': 285, 'boneka': 569, 'nugrahaty': 3107, 'gan': 1637, 'artist': 187, 'soot': 4188, 'regenerate': 3705, 'dust': 1255, 'masami': 2707, 'shouko': 4054, 'whatsapp': 4867, 'ristra': 3774, 'telur': 4443, 'kecil': 2244, 'lips': 2546, 'erha': 1348, 'exfoliate': 1392, 'bundle': 662, 'maker': 2665, 'history': 1918, 'whoo': 4874, 'hut': 1976, 'mun': 2994, 'sm': 4145, 'kojie': 2339, 'san': 3864, 'colourstay': 928, 'sheet': 4025, 'netto': 3052, 'diorskin': 1178, 'jouer': 2168, 'sikat': 4070, 'guerlain': 1799, 'meteorite': 2827, 'anak': 127, 'dewasa': 1152, 'cv': 1068, 'activator': 29, 'megalast': 2761, 'catsuit': 764, 'give': 1704, 'catwalk': 767, 'clair': 862, 'blok': 517, 'pinky': 3426, 'neutrogena': 3055, 'leave': 2466, 'crem': 1033, 'brightener': 619, 'kipas': 2306, 'glaze': 1713, 'milkyway': 2862, 'fantasy': 1448, 'push': 3609, 'button': 685, 'jualan': 2175, 'eco': 1276, 'soul': 4194, 'mat': 2716, 'pencabut': 3325, 'fall': 1437, 'volupte': 4810, 'bermutu': 425, 'halal': 1816, 'luminious': 2618, 'agustus': 58, 'creame': 1028, 'ha': 1805, 'floral': 1535, 'calendula': 702, 'energy': 1336, 'idul': 2003, 'adha': 41, 'arbutin': 170, 'heimish': 1877, 'surabaya': 4348, 'pewarna': 3393, 'mika': 2853, 'baked': 266, 'multifunction': 2986, 'chada': 799, 'horse': 1953, 'target': 4414, 'pieu': 3411, 'les': 2493, 'tidak': 4529, 'jc': 2138, 'zak': 4973, 'hydrating': 1982, 'ky': 2394, 'non': 3088, 'gl': 1705, 'organic': 3173, 'pouch': 3515, 'tatto': 4421, 'mamonde': 2673, 'guard': 1793, 'compack': 946, 'befleecy': 366, 'uang': 4681, 'kembali': 2257, 'talcum': 4396, 'china': 832, 'storage': 4277, 'artless': 188, 'paa': 3214, 'cashback': 754, 'clearsmooth': 878, 'quick': 3627, 'parfum': 3268, 'desire': 1146, 'atomy': 211, 'lokal': 2571, 'lipcolor': 2537, 'spesial': 4214, 'shoothing': 4047, 'bisa': 481, 'korset': 2359, 'saja': 3840, 'neutralizer': 3054, 'talk': 4398, 'fairy': 1433, 'kutek': 2389, 'refreshing': 3703, 'panda': 3252, 'becca': 360, 'pop': 3492, 'pori': 3502, 'keriput': 2274, 'root': 3802, 'crayon': 1024, 'mid': 2845, 'concelear': 958, 'popfeel': 3493, 'charm': 814, 'fp': 1573, 'cermin': 789, 'pudding': 3592, 'info': 2049, 'lebih': 2469, 'jelas': 2141, 'cocoa': 901, 'second': 3919, 'ba': 239, 'texture': 4507, 'elegant': 1305, 'timebalm': 4541, 'merrezca': 2818, 'genius': 1670, 'charge': 810, 'handcarry': 1831, 'rd': 3670, 'iii': 2006, 'sucofindo': 4309, 'seamless': 3912, 'universal': 4720, 'shower': 4057, 'harbolnas': 1846, 'hni': 1925, 'guarantee': 1792, 'draw': 1230, 'comestic': 938, 'shooting': 4048, 'natal': 3029, 'colorless': 922, 'eve': 1374, 'france': 1577, 'swarovski': 4360, 'casing': 756, 'terjangkau': 4483, 'glo': 1717, 'starseller': 4251, 'large': 2431, 'plum': 3458, 'qibest': 3615, 'luster': 2632, 'gloria': 1719, 'oro': 3188, 'slim': 4137, 'ga': 1622, 'mosaic': 2953, 'work': 4910, 'dgn': 1156, 'habis': 1806, 'beyond': 446, 'murmer': 3001, 'paint': 3230, 'scentio': 3898, 'salmon': 3852, 'sunshine': 4337, 'bcl': 339, 'masih': 2709, 'xl': 4928, 'putar': 3611, 'lippie': 2545, 'larissa': 2434, 'bella': 378, 'cosme': 990, 'kissbeauty': 2310, 'baca': 246, 'tattoo': 4422, 'fx': 1620, 'goddess': 1737, 'change': 806, 'upgrade': 4729, 'beautyfying': 355, 'york': 4962, 'simple': 4088, 'toko': 4559, 'oxygen': 3210, 'foundie': 1570, 'bye': 690, 'prestige': 3547, 'claresta': 863, 'underarm': 4710, 'variasi': 4753, 'km': 2327, 'protective': 3584, 'strobe': 4295, 'aichun': 64, 'peeling': 3306, 'bsc': 636, 'angle': 137, 'linen': 2527, 'cristal': 1042, 'eklusif': 1292, 'treatmen': 4610, 'tender': 4456, 'parah': 3265, 'equalizer': 1342, 'charcoal': 809, 'spa': 4200, 'syb': 4375, 'bantalan': 290, 'udara': 4683, 'syahrini': 4370, 'fushion': 1615, 'soybean': 4198, 'heboh': 1875, 'find': 1493, 'counter': 1000, 'herb': 1888, 'origin': 3181, 'mirror': 2892, 'sculpt': 3906, 'terheboh': 4477, 'terdepan': 4475, 'radio': 3641, 'desert': 1142, 'kantong': 2211, 'bellezkin': 380, 'board': 548, 'leather': 2465, 'grand': 1765, 'open': 3160, 'lapis': 2427, 'random': 3655, 'impian': 2027, 'kita': 2313, 'enak': 1331, 'ber': 395, 'farma': 1450, 'wdc': 4853, 'roller': 3793, 'tipi': 4548, 'christian': 841, 'versi': 4763, 'refiner': 3700, 'recomended': 3685, 'hongkong': 1942, 'md': 2748, 'polish': 3472, 'sell': 3949, 'propolis': 3580, 'terang': 4463, 'hadiah': 1810, 'nomer': 3086, 'mood': 2944, 'shading': 4011, 'great': 1774, 'capture': 735, 'dreamskin': 1234, 'diy': 1203, 'dance': 1080, 'sephora': 3978, 'boi': 559, 'ing': 2052, 'baruh': 304, 'bagi': 257, 'seluruh': 3952, 'masyarakat': 2715, 'indonesia': 2041, 'beautifully': 350, 'madecassoside': 2648, 'prelove': 3537, 'huda': 1971, 'stiker': 4266, 'peony': 3347, 'mauve': 2728, 'grm': 1782, 'tali': 4397, 'luka': 2614, 'unggulan': 4713, 'hyper': 1985, 'glossy': 1722, 'micro': 2838, 'first': 1503, 'prim': 3553, 'pl': 3440, 'jumbo': 2180, 'glubela': 1726, 'matahari': 2718, 'mutu': 3014, 'berkelas': 410, 'jam': 2119, 'terima': 4481, 'mumpung': 2993, 'coverlast': 1014, 'girlsstuff': 1702, 'pumpkin': 3598, 'ambient': 113, 'berkilau': 413, 'serat': 3983, 'bambu': 276, 'samyang': 3863, 'laku': 2412, 'cek': 773, 'regenerist': 3706, 'advanced': 49, 'old': 3144, 'kojic': 2338, 'esme': 1357, 'steven': 4261, 'whip': 4868, 'trio': 4623, 'packing': 3222, 'kaca': 2192, 'makarizo': 2662, 'bleach': 502, 'perlengkapan': 3370, 'click': 879, 'selvy': 3954, 'olshop': 3149, 'transparency': 4604, 'exfoliator': 1394, 'stretch': 4289, 'murahnya': 3000, 'intens': 2069, 'mink': 2880, 'thick': 4519, 'false': 1438, 'feather': 1464, 'alis': 93, 'eller': 1311, 'sertifikat': 3990, 'bean': 346, 'rend': 3725, 'nee': 3046, 'cara': 737, 'effector': 1287, 'rachel': 3636, 'hard': 1847, 'rare': 3658, 'gas': 1650, 'glutacol': 1730, 'semua': 3960, 'book': 572, 'bln': 515, 'rejuvenate': 3711, 'kb': 2237, 'gudetama': 1798, 'lazy': 2455, 'joy': 2171, 'available': 229, 'reflect': 3701, 'amber': 112, 'sudah': 4310, 'termasuk': 4491, 'jakarta': 2115, 'charlotte': 813, 'tilbury': 4537, 'per': 3350, 'buah': 642, 'yves': 4969, 'saint': 3839, 'lauren': 2447, 'luxe': 2636, 'must': 3010, 'aplikasi': 155, 'digunakan': 1169, 'mn': 2910, 'bulat': 656, 'combination': 935, 'kusam': 2387, 'watery': 4847, 'tangan': 4408, 'skull': 4121, 'payung': 3290, 'roromendut': 3805, 'arni': 179, 'aigner': 65, 'apricot': 161, 'auractivator': 217, 'dive': 1200, 'mickey': 2837, 'mouse': 2964, 'store': 4278, 'serba': 3984, 'ada': 33, 'melia': 2769, 'sunkissed': 4331, 'bonnie': 570, 'card': 740, 'bumil': 659, 'cove': 1008, 'dove': 1224, 'king': 2304, 'lipcream': 2538, 'gaya': 1655, 'berry': 430, 'pallette': 3246, 'ref': 3693, 'belle': 379, 'pnf': 3462, 'larva': 2435, 'fruit': 1595, 'leaf': 2462, 'su': 4306, 'puasa': 3589, 'florin': 1536, 'marck': 2690, 'pale': 3239, 'paper': 3262, 'watermelon': 4845, 'adore': 46, 'instaglow': 2062, 'defect': 1109, 'bg': 449, 'lemon': 2482, 'ummi': 4704, 'cepetan': 786, 'lumpur': 2624, 'foudation': 1568, 'kerutan': 2279, 'kalimantan': 2203, 'ijo': 2007, 'wrap': 4914, 'sc': 3892, 'membandel': 2775, 'murahhhh': 2999, 'secreat': 3921, 'rossa': 3808, 'stylenanda': 4302, 'nacific': 3017, 'run': 3826, 'pooh': 3491, 'populer': 3496, 'ya': 4945, 'tercepat': 4474, 'beras': 396, 'tv': 4666, 'kryolan': 2371, 'ffc': 1479, 'ff': 1478, 'vege': 4755, 'gluconolactone': 1727, 'respon': 3744, 'kerut': 2278, 'hyaluronic': 1977, 'shrink': 4058, 'durable': 1253, 'thefaceshop': 4515, 'fhoto': 1483, 'four': 1571, 'clearance': 877, 'multitasker': 2988, 'colossal': 924, 'perhiasan': 3367, 'imitasi': 2024, 'payet': 3288, 'fungsi': 1611, 'dekorasi': 1118, 'length': 2486, 'kotak': 2363, 'nomor': 3087, 'nusantara': 3108, 'buat': 643, 'gg': 1685, 'solo': 4181, 'pada': 3225, 'remaja': 3716, 'longlasting': 2581, 'sunset': 4336, 'point': 3468, 'vs': 4817, 'mud': 2977, 'couture': 1007, 'terhits': 4478, 'semalam': 3955, 'tuoyao': 4655, 'jeruk': 2150, 'wood': 4905, 'fan': 1440, 'fem': 1469, 'pony': 3490, 'starter': 4253, 'frat': 1578, 'manizers': 2682, 'delicious': 1121, 'infuse': 2050, 'dot': 1222, 'diffuse': 1166, 'deluxe': 1127, 'oh': 3135, 'bunny': 665, 'gede': 1661, 'bbcream': 335, 'merk': 2815, 'shineskin': 4036, 'christmas': 842, 'ombre': 3150, 'jw': 2186, 'getaway': 1683, 'fw': 1619, 'republik': 3736, 'happy': 1844, 'year': 4951, 'nut': 3109, 'ql': 3619, 'countouring': 1002, 'cucumber': 1057, 'snazaroo': 4165, 'polo': 3476, 'scarlet': 3896, 'easy': 1269, 'serut': 3994, 'melt': 2772, 'bohemian': 557, 'clio': 883, 'wing': 4888, 'ekonomis': 1293, 'talc': 4395, 'cacao': 695, 'mb': 2745, 'stereo': 4260, 'otomatis': 3192, 'metalik': 2824, 'cellumination': 781, 'live': 2561, 'juli': 2179, 'geratis': 1679, 'beblesh': 359, 'babypink': 244, 'greentea': 1777, 'cocok': 902, 'cold': 911, 'hip': 1914, 'nigh': 3068, 'picture': 3409, 'keisha': 2249, 'merdeka': 2811, 'fashionable': 1454, 'autumn': 228, 'dress': 1236, 'core': 982, 'bandel': 282, 'br': 599, 'penyamar': 3345, 'dll': 1204, 'send': 3961, 'bndngksmtk': 544, 'unicorn': 4715, 'blending': 507, 'aaa': 1, 'perlusin': 3371, 'pasti': 3281, 'suit': 4317, 'ka': 2189, 'ip': 2082, 'different': 1165, 'glamour': 1709, 'maxy': 2736, 'garden': 1644, 'section': 3924, 'deonard': 1131, 'hingga': 1913, 'marry': 2701, 'bamboo': 275, 'strobelight': 4296, 'en': 1330, 'come': 937, 'celebrity': 776, 'boost': 574, 'blus': 534, 'ambre': 114, 'self': 3946, 'french': 1585, 'reseller': 3738, 'nike': 3075, 'adidas': 43, 'iritasi': 2091, 'discont': 1185, 'goban': 1735, 'llp': 2564, 'jin': 2160, 'image': 2020, 'perona': 3375, 'macam': 2643, 'spoiler': 4223, 'complex': 949, 'degree': 1117, 'illuminating': 2013, 'tdk': 4427, 'club': 893, 'barbapapa': 296, 'clarifier': 864, 'kw': 2392, 'chromatic': 843, 'owl': 3207, 'mau': 2727, 'microfinish': 2840, 'curve': 1062, 'pert': 3382, 'cicilan': 853, 'pemerah': 3319, 'gak': 1627, 'tewrmurah': 4506, 'hk': 1921, 'lampu': 2414, 'usb': 4733, 'laptop': 2429, 'notebook': 3095, 'fleksibel': 1526, 'express': 1403, 'son': 4185, 'park': 3270, 'bridal': 612, 'tongkat': 4568, 'perak': 3352, 'suci': 4308, 'rb': 3669, 'penawaran': 3324, 'cut': 1065, 'shipping': 4040, 'powerful': 3522, 'lightweight': 2516, 'vloggers': 4802, 'houndstooth': 1956, 'busui': 679, 'ester': 1362, 'widyarini': 4878, 'brick': 611, 'melindungi': 2770, 'parasol': 3266, 'favorite': 1460, 'jempol': 2144, 'amazing': 109, 'bengkoang': 390, 'chamomile': 802, 'macaron': 2645, 'madu': 2649, 'keep': 2246, 'reserve': 3739, 'cabana': 692, 'cs': 1051, 'kiehl': 2296, 'cactus': 696, 'zap': 4978, 'carbon': 739, 'hap': 1842, 'animasi': 139, 'duck': 1249, 'character': 808, 'freeze': 1584, 'datang': 1096, 'sensation': 3966, 'correcting': 985, 'sky': 4122, 'blind': 510, 'lipbalm': 2536, 'suka': 4318, 'boleh': 562, 'salah': 3844, 'fpd': 1574, 'edt': 1281, 'moonshot': 2947, 'bc': 337, 'centac': 782, 'komplit': 2348, 'chico': 829, 'vaseline': 4754, 'terbaikkk': 4469, 'kantung': 2213, 'mazaya': 2744, 'chou': 839, 'doos': 1220, 'carry': 747, 'istimewa': 2097, 'akhir': 76, 'kusus': 2388, 'fake': 1435, 'rosegold': 3806, 'delight': 1122, 'creation': 1030, 'wb': 4852, 'delivery': 1123, 'singapore': 4095, 'wearing': 4855, 'candy': 721, 'pembelian': 3317, 'gad': 1623, 'welcome': 4860, 'aja': 73, 'offer': 3132, 'refiil': 3696, 'diri': 1182, 'anda': 129, 'raya': 3666, 'fitri': 1509, 'modify': 2925, 'regular': 3708, 'born': 578, 'kabuki': 2191, 'ap': 153, 'coffee': 907, 'concealing': 957, 'bunga': 663, 'readystock': 3674, 'bareminerals': 301, 'foot': 1560, 'tight': 4536, 'naturally': 3034, 'net': 3051, 'nouveau': 3098, 'lust': 2631, 'retro': 3750, 'pake': 3236, 'hasil': 1855, 'people': 3348, 'compress': 952, 'oxyglow': 3211, 'lot': 2595, 'mediblock': 2754, 'latex': 2441, 'gucci': 1794, 'splash': 4220, 'silikon': 4079, 'laut': 2449, 'tidur': 4531, 'si': 4060, 'graphic': 1768, 'waist': 4822, 'dingin': 1173, 'bioko': 474, 'laurent': 2448, 'gosend': 1750, 'atasan': 208, 'modern': 2924, 'jangan': 2124, 'ship': 4039, 'orignal': 3184, 'moko': 2936, 'transparant': 4603, 'kitty': 2316, 'doraemon': 1221, 'app': 158, 'min': 2865, 'buy': 686, 'antwerp': 152, 'young': 4963, 'bold': 561, 'papan': 3261, 'bkk': 485, 'therapy': 4517, 'membuat': 2778, 'totol': 4586, 'spg': 4216, 'anniversary': 145, 'murahh': 2997, 'tua': 4640, 'transculent': 4599, 'health': 1869, 'muda': 2978, 'twinkle': 4671, 'st': 4240, 'ory': 3189, 'imlek': 2025, 'airbrush': 68, 'kefir': 2247, 'fish': 1504, 'tablet': 4383, 'explosion': 1400, 'potion': 3512, 'deo': 1130, 'pin': 3419, 'seal': 3911, 'dallas': 1078, 'dusty': 1256, 'get': 1682, 'sama': 3854, 'jadi': 2110, 'semi': 3956, 'barbie': 297, 'apoteker': 157, 'bordir': 577, 'talus': 4400, 'persen': 3377, 'bintang': 468, 'swing': 4368, 'cicapair': 852, 'display': 1193, 'lover': 2602, 'solid': 4180, 'festival': 1477, 'class': 867, 'hott': 1955, 'smoke': 4157, 'farmasi': 1451, 'ring': 3768, 'tripod': 4625, 'kabel': 2190, 'ageless': 55, 'timbul': 4539, 'pecah': 3304, 'wool': 4907, 'mengkilap': 2793, 'moisturise': 2931, 'niceface': 3067, 'lejel': 2478, 'cewek': 796, 'laikou': 2408, 'sulwashoo': 4321, 'gs': 1788, 'peachy': 3296, 'kwalitas': 2393, 'ace': 20, 'empat': 1326, 'potong': 3513, 'bantal': 289, 'tirai': 4550, 'without': 4897, 'ai': 63, 'ketiak': 2283, 'siku': 4071, 'lutut': 2634, 'generation': 1669, 'tulisan': 4647, 'arab': 169, 'beautycare': 353, 'cash': 753, 'eunhye': 1370, 'everday': 1381, 'heavy': 1874, 'duty': 1257, 'window': 4885, 'side': 4064, 'lp': 2605, 'lg': 2501, 'victoria': 4776, 'half': 1817, 'matcha': 2720, 'evo': 1387, 'hr': 1964, 'ranee': 3656, 'every': 1385, 'ah': 59, 'panggang': 3255, 'provence': 3586, 'japanese': 2127, 'stone': 4275, 'skinova': 4118, 'lihat': 2517, 'xoxo': 4930, 'joluxeone': 2166, 'glutathione': 1731, 'kakao': 2200, 'lusin': 2629, 'ebony': 1270, 'nebula': 3042, 'mouisture': 2962, 'yuk': 4967, 'jenner': 2146, 'indo': 2040, 'glamorous': 1708, 'cheeck': 820, 'source': 4196, 'terbagus': 4466, 'tammia': 4403, 'lighter': 2514, 'istri': 2098, 'pacar': 3217, 'cica': 851, 'lainnya': 2409, 'minnie': 2881, 'call': 705, 'hengfang': 1885, 'desember': 1141, 'lingerie': 2529, 'odel': 3129, 'bottom': 587, 'acc': 18, 'cloud': 892, 'ban': 277, 'exfoliating': 1393, 'tw': 4667, 'may': 2738, 'cap': 730, 'sunny': 4332, 'strong': 4298, 'global': 1718, 'wax': 4850, 'reguler': 3709, 'story': 4279, 'round': 3811, 'tanah': 4406, 'america': 116, 'dolby': 1212, 'heal': 1868, 'frost': 1594, 'glass': 1712, 'gamat': 1630, 'precision': 3535, 'performance': 3364, 'neon': 3050, 'teh': 4437, 'kece': 2243, 'strip': 4292, 'tembus': 4445, 'lapisan': 2428, 'iconic': 1996, 'lidah': 2507, 'buaya': 645, 'coconut': 903, 'popular': 3495, 'wine': 4887, 'crim': 1039, 'kencang': 2265, 'cosmetik': 992, 'container': 964, 'blouse': 525, 'peplum': 3349, 'menutup': 2799, 'lengket': 2485, 'disini': 1188, 'cross': 1046, 'highliter': 1903, 'souffle': 4193, 'wisuda': 4893, 'sesuai': 3995, 'bikin': 464, 'summer': 4323, 'ash': 193, 'groosia': 1784, 'ht': 1965, 'lem': 2479, 'topp': 4576, 'neww': 3058, 'pear': 3298, 'oval': 3202, 'pancake': 3251, 'pineapple': 3420, 'bts': 640, 'orginal': 3177, 'koko': 2340, 'kollection': 2344, 'wallet': 4828, 'menawan': 2785, 'gojek': 1739, 'prone': 3578, 'buttock': 684, 'sticker': 4264, 'terlariss': 4487, 'pudar': 3591, 'bos': 579, 'berl': 415, 'pertama': 3383, 'violet': 4783, 'oriental': 3179, 'vanity': 4750, 'haji': 1815, 'umroh': 4706, 'crack': 1022, 'heel': 1876, 'chinese': 833, 'collec': 915, 'melanox': 2766, 'plate': 3449, 'corector': 983, 'elegan': 1303, 'mocha': 2916, 'female': 1470, 'minggu': 2872, 'handaiyan': 1830, 'salee': 3846, 'spirulina': 4218, 'kapsul': 2218, 'roro': 3804, 'mendut': 2788, 'ft': 1598, 'perfume': 3365, 'hydration': 1983, 'ultimax': 4695, 'pesan': 3385, 'sandstorm': 3868, 'animal': 138, 'ginger': 1693, 'clip': 884, 'ivan': 2101, 'gunawan': 1802, 'jika': 2157, 'five': 1511, 'titanium': 4554, 'cokelat': 908, 'nc': 3041, 'deffense': 1113, 'gari': 1645, 'fg': 1480, 'jack': 2105, 'quartz': 3624, 'zen': 4983, 'taiwan': 4392, 'benang': 387, 'coat': 898, 'halloween': 1818, 'jamur': 2123, 'fancy': 1443, 'mengatasi': 2791, 'contouring': 967, 'fuchsia': 1600, 'kayu': 2236, 'stop': 4276, 'lime': 2523, 'empty': 1328, 'twist': 4673, 'nano': 3025, 'god': 1736, 'shopping': 4051, 'stamp': 4245, 'blink': 512, 'wu': 4918, 'cairan': 699, 'solar': 4179, 'crime': 1040, 'rekomended': 3712, 'dibeli': 1162, 'aquafleur': 166, 'preorder': 3542, 'adalah': 34, 'starry': 4250, 'philip': 3395, 'sgp': 4007, 'trust': 4636, 'te': 4428, 'rugi': 3823, 'minus': 2885, 'almond': 96, 'iluminating': 2018, 'ucanbe': 4682, 'internasional': 2074, 'silicone': 4078, 'naga': 3018, 'natasha': 3030, 'rock': 3787, 'fs': 1597, 'jj': 2161, 'acak': 16, 'life': 2508, 'sekali': 3938, 'show': 4056, 'wooden': 4906, 'twin': 4670, 'tcd': 4426, 'tiger': 4535, 'pasang': 3274, 'agent': 57, 'pakaian': 3235, 'sensor': 3971, 'art': 185, 'perbaikan': 3355, 'kapasitas': 2217, 'bo': 547, 'world': 4912, 'maison': 2660, 'kitsune': 2315, 'three': 4528, 'shanghai': 4016, 'bija': 463, 'shock': 4044, 'ec': 1272, 'jumpsuit': 2183, 'salem': 3848, 'navy': 3040, 'abu': 14, 'lar': 2430, 'tb': 4424, 'material': 2722, 'amsterdam': 125, 'tiramisu': 4551, 'sea': 3910, 'tampil': 4404, 'bali': 268, 'belang': 373, 'oled': 3146, 'hoodie': 1946, 'embellish': 1314, 'biasa': 455, 'kg': 2290, 'gradient': 1761, 'handle': 1832, 'nego': 3047, 'raspberry': 3660, 'kolagen': 2342, 'dodo': 1209, 'disk': 1189, 'bp': 597, 'ke': 2239, 'vov': 4814, 'bungkus': 664, 'supplier': 4345, 'strength': 4288, 'inter': 2072, 'selamat': 3943, 'stain': 4243, 'vinyl': 4782, 'minuman': 2884, 'cowok': 1018, 'ayo': 236, 'mercury': 2810, 'motif': 2958, 'ear': 1266, 'telinga': 4441, 'plush': 3461, 'giga': 1687, 'meteor': 2826, 'juicy': 2178, 'melon': 2771, 'crazy': 1025, 'adhesive': 42, 'plastic': 3446, 'sampai': 3858, 'laki': 2410, 'monochrome': 2942, 'tmr': 4558, 'breathable': 609, 'qi': 3614, 'dpt': 1226, 'monggo': 2939, 'hp': 1961, 'slide': 4136, 'merawat': 2808, 'sherbet': 4029, 'hight': 1905, 'eos': 1341, 'choco': 834, 'blous': 524, 'minat': 2866, 'resistant': 3741, 'pocket': 3464, 'musim': 3007, 'chubby': 847, 'exo': 1396, 'tipe': 4547, 'synthetic': 4377, 'suede': 4312, 'broken': 624, 'senka': 3964, 'feature': 1465, 'zone': 4991, 'juga': 2177, 'ro': 3782, 'bola': 560, 'magnetic': 2657, 'shampo': 4014, 'fitting': 1510, 'segar': 3930, 'snapdragon': 4164, 'gradation': 1759, 'quot': 3629, 'ibu': 1990, 'hamil': 1825, 'sehari': 3935, 'tri': 4618, 'chiffon': 830, 'lisptick': 2554, 'bleaching': 503, 'noni': 3089, 'print': 3561, 'hq': 1963, 'bagian': 258, 'pribadi': 3551, 'kesehatan': 2280, 'sedang': 3925, 'kami': 2206, 'solusi': 4182, 'longgar': 2579, 'country': 1003, 'jaman': 2120, 'murahhh': 2998, 'oxford': 3208, 'phone': 3396, 'charger': 811, 'jf': 2155, 'ar': 168, 'blu': 529, 'ray': 3665, 'amazonian': 111, 'school': 3899, 'dahsyat': 1071, 'mohon': 2927, 'ampule': 124, 'klip': 2323, 'comfort': 939, 'add': 37, 'plant': 3444, 'germany': 1680, 'music': 3005, 'tiens': 4533, 'aktif': 79, 'sehat': 3936, 'hl': 1922, 'maxi': 2731, 'ter': 4461, 'fma': 1547, 'copper': 976, 'loo': 2586, 'xz': 4943, 'eshion': 1356, 'future': 1617, 'ss': 4238, 'late': 2440, 'scuba': 3905, 'acrylic': 26, 'favorit': 1459, 'berat': 397, 'flare': 1517, 'shift': 4032, 'sport': 4227, 'gratiss': 1771, 'berubah': 436, 'temperatur': 4451, 'knee': 2331, 'part': 3271, 'amore': 119, 'man': 2674, 'berseri': 431, 'asia': 196, 'converter': 971, 'mine': 2867, 'terbaikk': 4468, 'neo': 3048, 'segitiga': 3934, 'segi': 3933, 'ular': 4689, 'snake': 4162, 'jauh': 2135, 'magnet': 2656, 'shi': 4030, 'gar': 1641, 'mu': 2975, 'casual': 759, 'gen': 1668, 'boho': 558, 'bead': 344, 'kawai': 2233, 'posh': 3509, 'gelap': 1663, 'topi': 4575, 'pemesanan': 3320, 'bi': 454, 'buatan': 644, 'contact': 963, 'straight': 4280, 'praktis': 3530, 'girly': 1703, 'cn': 896, 'vintage': 4781, 'shabby': 4009, 'han': 1827, 'cewe': 795, 'oem': 3131, 'winter': 4891, 'friendly': 1588, 'triangle': 4620, 'see': 3928, 'south': 4197, 'decor': 1106, 'lux': 2635, 'unisex': 4718, 'liplapin': 2542, 'moodmatcher': 2945, 'wani': 4832, 'setengah': 3999, 'jne': 2163, 'yes': 4953, 'standar': 4247, 'poppy': 3494, 'fruity': 1596, 'ld': 2458, 'keburu': 2241, 'pic': 3406, 'child': 831, 'batu': 325, 'pant': 3257, 'lipliner': 2543, 'covergirl': 1013, 'af': 50, 'wedding': 4857, 'campur': 717, 'band': 279, 'celana': 774, 'lily': 2522, 'bm': 542, 'oren': 3171, 'beelstorez': 363, 'lemak': 2480, 'bell': 377, 'legend': 2472, 'tail': 4390, 'truffle': 4634, 'peter': 3390, 'bust': 676, 'europe': 1371, 'anjing': 141, 'mr': 2969, 'metallic': 2825, 'vision': 4789, 'pendek': 3329, 'menyusui': 2804, 'xixi': 4927, 'ko': 2336, 'sw': 4359, 'berlian': 419, 'kain': 2197, 'check': 819, 'kaki': 2201, 'muzi': 3015, 'princess': 3560, 'hughes': 1972, 'silang': 4075, 'zara': 4979, 'strap': 4281, 'berbagai': 398, 'ribbon': 3762, 'kuat': 2375, 'rendah': 3727, 'jelita': 2142, 'mode': 2921, 'silicon': 4077, 'hdd': 1863, 'tosca': 4581, 'membeli': 2776, 'stylish': 4303, 'english': 1338, 'leg': 2471, 'baju': 264, 'gamis': 1635, 'katun': 2231, 'flow': 1539, 'seven': 4002, 'se': 3909, 'hati': 1857, 'looke': 2589, 'holy': 1936, 'colorful': 921, 'tailor': 4391, 'marble': 2688, 'genuine': 1673, 'sabrina': 3830, 'fanta': 1446, 'syari': 4374, 'muslim': 3008, 'casandra': 751, 'karet': 2221, 'bingits': 467, 'kue': 2378, 'fat': 1456, 'detail': 1150, 'luxurious': 2637, 'designer': 1144, 'deskripsi': 1147, 'edge': 1278, 'setiap': 4000, 'international': 2075, 'oversize': 3205, 'lipmatte': 2544, 'sn': 4160, 'irregular': 2093, 'producttt': 3570, 'productt': 3569, 'creamatte': 1027, 'wide': 4876, 'burt': 670, 'putri': 3613, 'ruby': 3819, 'android': 130, 'eu': 1369, 'november': 3100, 'cuma': 1059, 'pemakaian': 3314, 'sayang': 3889, 'maya': 2739, 'ramp': 3653, 'berwarna': 437, 'mocca': 2915, 'au': 212, 'shaker': 4013, 'rm': 3780, 'desain': 1140, 'kartun': 2223, 'premiun': 3541, 'discon': 1184, 'aurora': 218, 'sb': 3891, 'ad': 32, 'origina': 3182, 'stevia': 4262, 'gray': 1773, 'hang': 1837, 'waffle': 4821, 'traditional': 4596, 'feitong': 1467, 'tradisional': 4595, 'hare': 1849, 'pull': 3594, 'pd': 3293, 'imut': 2031, 'ds': 1244, 'polkadot': 3474, 'lm': 2565, 'lo': 2566, 'rasa': 3659, 'fire': 1501, 'ibiza': 1988, 'smile': 4154, 'bebe': 358, 'baguss': 260, 'smlc': 4155, 'kuliah': 2380, 'kerja': 2275, 'wave': 4849, 'seler': 3945, 'panel': 3254, 'nice': 3066, 'electric': 1301, 'mc': 2747, 'bud': 650, 'date': 1097, 'hybrid': 1978, 'raja': 3644, 'kado': 2194, 'maroon': 2699, 'nilon': 3080, 'macan': 2644, 'sweetheart': 4365, 'cl': 860, 'pengganti': 3333, 'kapas': 2216, 'tutul': 4664, 'bl': 487, 'kamera': 2205, 'kamuflase': 2208, 'sd': 3907, 'tengah': 4457, 'nn': 3082, 'stabilo': 4241, 'dikirim': 1172, 'kissproof': 2311, 'cannes': 724, 'prague': 3529, 'mango': 2678, 'xtreme': 4938, 'eva': 1373, 'lotus': 2597, 'butterfly': 683, 'cup': 1060, 'eropa': 1352, 'emerald': 1321, 'kisi': 2308, 'teddy': 4432, 'fly': 1545, 'addis': 39, 'ababa': 4, 'denim': 1129, 'brulee': 633, 'lensa': 2489, 'flamingo': 1515, 'qz': 3633, 'redy': 3692, 'ceramic': 788, 'zoom': 4992, 'luna': 2625, 'modis': 2926, 'lewat': 2499, 'daisy': 1073, 'camelia': 709, 'gogo': 1738, 'paulo': 3287, 'lolita': 2572, 'transylvania': 4606, 'kate': 2230, 'fc': 1461, 'turn': 4657, 'electroplate': 1302, 'pernikahan': 3373, 'mom': 2938, 'kuda': 2377, 'season': 3914, 'market': 2697, 'strech': 4285, 'idr': 2002, 'metalic': 2823, 'sequins': 3981, 'glue': 1728, 'flora': 1534, 'samping': 3860, 'baterai': 314, 'pong': 3487, 'belanja': 374, 'panas': 3249, 'lacquer': 2404, 'connector': 962, 'gravity': 1772, 'terawat': 4465, 'bkn': 486, 'penghabisan': 3334, 'perut': 3384, 'sr': 4236, 'luntur': 2627, 'sendiri': 3962, 'salju': 3850, 'busana': 674, 'snowman': 4170, 'liptint': 2551, 'close': 886, 'infinite': 2046, 'flexible': 1529, 'mp': 2968, 'cocktail': 899, 'inch': 2034, 'pe': 3294, 'dapet': 1085, 'berlaku': 416, 'sharp': 4020, 'tray': 4608, 'pasangan': 3275, 'foto': 1567, 'lipatan': 2535, 'glare': 1711, 'stainless': 4244, 'steel': 4257, 'support': 4346, 'frame': 1575, 'panasonic': 3250, 'seni': 3963, 'fm': 1546, 'selling': 3951, 'via': 4774, 'sequin': 3979, 'pj': 3438, 'rumah': 3824, 'middle': 2846, 'beast': 348, 'gd': 1657, 'finger': 1496, 'addict': 38, 'coco': 900, 'scarf': 3895, 'gelombang': 1665, 'memory': 2780, 'oranye': 3165, 'official': 3134, 'fun': 1609, 'multicolor': 2985, 'morocco': 2951, 'sayap': 3890, 'elephant': 1308, 'bikini': 465, 'fox': 1572, 'sincere': 4094, 'jet': 2152, 'gadget': 1624, 'ri': 3760, 'room': 3801, 'elegance': 1304, 'mura': 2995, 'release': 3714, 'lf': 2500, 'ef': 1283, 'kacamata': 2193, 'arm': 173, 'rubber': 3817, 'yi': 4955, 'melalui': 2765, 'lengan': 2483, 'pisang': 3431, 'liz': 2562, 'bazar': 333, 'comfortable': 940, 'sista': 4103, 'canola': 725, 'replacement': 3733, 'simpel': 4087, 'kailijumei': 2196, 'untu': 4725, 'bbm': 336, 'idol': 2001, 'milan': 2855, 'prom': 3574, 'hub': 1969, 'fd': 1462, 'pur': 3603, 'rata': 3661, 'dragon': 1228, 'expose': 1401, 'smartphone': 4151, 'pi': 3405, 'onyx': 3156, 'realpict': 3678, 'anggun': 134, 'orderan': 3168, 'boutique': 591, 'polos': 3477, 'hf': 1893, 'karakter': 2219, 'defender': 1111, 'note': 3094, 'car': 736, 'moschino': 2954, 'standard': 4248, 'bt': 639, 'rhinestone': 3759, 'asing': 198, 'kmj': 2329, 'htc': 1966, 'ten': 4455, 'wedge': 4858, 'mt': 2973, 'bw': 689, 'prem': 3539, 'tinta': 4544, 'fishtail': 1506, 'sleeve': 4130, 'dex': 1155, 'jx': 2187, 'corak': 978, 'grtis': 1787, 'kong': 2352, 'sense': 3968, 'american': 117, 'harian': 1852, 'tokyo': 4561, 'valipcious': 4745, 'gugur': 1801, 'tc': 4425, 'secondhand': 3920, 'amerika': 118, 'brandnew': 606, 'tulip': 4645, 'saya': 3888, 'retak': 3747, 'envy': 1340, 'tribal': 4621, 'gambar': 1631, 'burung': 672, 'mixed': 2902, 'naik': 3020, 'jabodetabek': 2103, 'labu': 2400, 'bv': 688, 'promosi': 3577, 'honest': 1939, 'sling': 4140, 'womens': 4902, 'wind': 4884, 'mall': 2671, 'pu': 3588, 'bantu': 292, 'sempat': 3958, 'suhu': 4314, 'aus': 219, 'zebra': 4982, 'petroleum': 3392, 'buka': 653, 'romantis': 3797, 'goyang': 1753, 'video': 4777, 'sunrise': 4334, 'siapa': 4063, 'twilight': 4669, 'bnib': 545, 'sg': 4006, 'zip': 4989, 'hat': 1856, 'rosewood': 3807, 'plat': 3448, 'ditambah': 1198, 'leopard': 2491, 'binatang': 466, 'shinta': 4037, 'break': 607, 'sedia': 3927, 'hangat': 1838, 'loyal': 2604, 'slip': 4141, 'merry': 2819, 'hippo': 1916, 'iron': 2092, 'hijab': 1907, 'maxmara': 2733, 'wan': 4829, 'klasik': 2320, 'lava': 2451, 'selfi': 3947, 'short': 4052, 'tema': 4444, 'mandarin': 2675, 'tipis': 4549, 'grid': 1780, 'unlimited': 4722, 'cucigudang': 1056, 'aluminum': 104, 'sapphire': 3873, 'india': 2039, 'singel': 4096, 'mobil': 2912, 'dobel': 1206, 'termurahh': 4494, 'xiaomi': 4923, 'mijia': 2852, 'kasus': 2227, 'shoulder': 4055, 'oo': 3157, 'fi': 1485, 'complite': 951, 'certify': 790, 'outdoor': 3196, 'gb': 1656, 'menarik': 2784, 'family': 1439, 'spandex': 4206, 'bom': 566, 'iris': 2090, 'perdana': 3358, 'tutu': 4663, 'zr': 4995, 'cape': 733, 'online': 3155, 'voice': 4806, 'mobile': 2913, 'colorburst': 920, 'tumi': 4651, 'kawaii': 2234, 'tp': 4593, 'olahraga': 3142, 'tempel': 4447, 'wed': 4856, 'contrast': 968, 'bigbang': 460, 'level': 2498, 'jalan': 2118, 'bumper': 660, 'runway': 3827, 'plain': 3443, 'dre': 1232, 'lebar': 2467, 'grace': 1757, 'wholesale': 4873, 'eagle': 1264, 'split': 4222, 'besarang': 440, 'serius': 3989, 'kd': 2238, 'nagita': 3019, 'string': 4291, 'prose': 3581, 'joint': 2164, 'salur': 3853, 'accessory': 19, 'pb': 3291, 'superbigshop': 4339, 'maret': 2692, 'collar': 914, 'husus': 1975, 'feminine': 1472, 'ikan': 2008, 'depan': 1133, 'kucing': 2376, 'kuru': 2386, 'termurahhh': 4495, 'helio': 1878, 'pencetakan': 3327, 'hnm': 1926, 'bottoming': 588, 'jaring': 2130, 'amanda': 107, 'busa': 673, 'bra': 600, 'mf': 2831, 'kaos': 2215, 'battery': 324, 'powerbank': 3521, 'babydoll': 243, 'asuransi': 203, 'tee': 4433, 'bdw': 341, 'cetak': 793, 'tk': 4557, 'abang': 6, 'afrika': 53, 'velour': 4758, 'extender': 1406, 'belt': 383, 'aktivasi': 80, 'calf': 703, 'belly': 382, 'jaringan': 2131, 'sl': 4123, 'ruffle': 3821, 'georgia': 1677, 'yarn': 4948, 'khaki': 2291, 'campuran': 718, 'faux': 1458, 'word': 4909, 'bari': 302, 'muat': 2976, 'aksen': 77, 'mirip': 2891, 'junkie': 2185, 'effuty': 1288, 'bolt': 565, 'keystone': 2288, 'thn': 4526, 'door': 1219, 'toska': 4584, 'anggur': 135, 'malas': 2668, 'celeb': 775, 'ratus': 3664, 'wireless': 4892, 'lanjut': 2423, 'kata': 2229, 'elastic': 1299, 'shirt': 4042, 'thr': 4527, 'pantai': 3258, 'housing': 1960, 'tulang': 4644, 'commit': 942, 'mic': 2834, 'combi': 934, 'terbuka': 4472, 'berbahan': 399, 'kedatangan': 2245, 'ol': 3141, 'buntung': 666, 'wi': 4875, 'cosplay': 993, 'winner': 4890, 'punggung': 3600, 'berkah': 408, 'dada': 1070, 'adem': 40, 'th': 4511, 'sock': 4173, 'turtle': 4660, 'surface': 4350, 'saku': 3842, 'aluminium': 103, 'pattern': 3285, 'snowflake': 4168, 'femme': 1473, 'fre': 1579, 'mire': 2890, 'valentine': 4744, 'garis': 1646, 'sim': 4085, 'amplifier': 121, 'printing': 3563, 'tersegel': 4501, 'menyilang': 2803, 'hc': 1860, 'mesin': 2821, 'fash': 1452, 'tropis': 4631, 'umbrella': 4701, 'sepesial': 3977, 'fur': 1613, 'jaket': 2116, 'ultah': 4692, 'stripe': 4293, 'maron': 2698, 'geometric': 1675, 'phyton': 3404, 'liburan': 2505, 'stretchy': 4290, 'siswa': 4105, 'wo': 4898, 'mother': 2957, 'digital': 1167, 'cassing': 757, 'antik': 151, 'outer': 3197, 'nyata': 3116, 'meria': 2813, 'misty': 2898, 'reborn': 3682, 'samsung': 3862, 'galaxy': 1629, 'tpu': 4594, 'speaker': 4209, 'kembang': 2258, 'kemeja': 2260, 'sabuk': 3831, 'seken': 3940, 'drive': 1241, 'paragraph': 3264, 'comb': 931, 'langka': 2420, 'orijinal': 3186, 'hemp': 1883, 'sf': 4005, 'stocking': 4273, 'pantyhose': 3260, 'google': 1746, 'stelan': 4258, 'office': 3133, 'kmi': 2328, 'desktop': 1148, 'hidup': 1898, 'lq': 2606, 'cvpreorder': 1069, 'gothic': 1751, 'tatouage': 4420, 'sue': 4311, 'fran': 1576, 'wilson': 4882, 'kancing': 2209, 'beludru': 384, 'lipkit': 2541, 'pout': 3517, 'lan': 2416, 'un': 4708, 'thing': 4523, 'sambung': 3856, 'huruf': 1974, 'emblem': 1315, 'graffiti': 1762, 'pandang': 3253, 'patina': 3284, 'stockholm': 4272, 'vibe': 4775, 'seksi': 3942, 'elastis': 1300, 'rajutan': 3646, 'kalung': 2204, 'lipstikq': 2550, 'couple': 1006, 'vogue': 4805, 'tombol': 4564, 'pelajar': 3308, 'shark': 4019, 'military': 2859, 'sailor': 3838, 'bsfy': 637, 'emily': 1322, 'homecoming': 1938, 'xa': 4919, 'makan': 2661, 'setelan': 3998, 'bow': 592, 'arrow': 183, 'bustier': 677, 'gokil': 1741, 'tengkorak': 4458, 'doff': 1210, 'cube': 1054, 'sentuh': 3973, 'skirt': 4119, 'sq': 4233, 'persegi': 3376, 'magenta': 2651, 'toppp': 4577, 'kimono': 2301, 'bls': 528, 'mahasiswa': 2659, 'tumblr': 4650, 'kelinci': 2252, 'mm': 2908, 'pregnant': 3536, 'perspektif': 3381, 'sporty': 4228, 'dash': 1091, 'ze': 4980, 'tulle': 4649, 'jersey': 2149, 'samantha': 3855, 'leader': 2461, 'wanit': 4833, 'sound': 4195, 'bridesmaid': 614, 'bergaya': 404, 'evening': 1377, 'ikon': 2011, 'gt': 1790, 'hop': 1950, 'gemini': 1666, 'potongan': 3514, 'hias': 1895, 'hong': 1941, 'term': 4490, 'calvin': 707, 'klein': 2321, 'daster': 1094, 'resleting': 3742, 'ipad': 2083, 'iphone': 2086, 'xia': 4921, 'mah': 2658, 'blackberry': 489, 'juni': 2184, 'street': 4286, 'hiasan': 1896, 'bolero': 563, 'hantu': 1840, 'sifon': 4066, 'maxidress': 2732, 'bodycon': 552, 'renda': 3726, 'gaun': 1653, 'patchwork': 3283, 'kasual': 2226, 'cardi': 741, 'bhn': 453, 'kerah': 2269, 'ritsleting': 3775, 'pola': 3470, 'ketat': 2282, 'polka': 3473, 'brokat': 623, 'berlubang': 421, 'brocade': 622, 'terusan': 4503, 'sleeveless': 4132, 'brukat': 631, 'embroidery': 1320, 'longdres': 2577, 'maternity': 2723, 'kombi': 2345, 'crew': 1036, 'kelelawar': 2251, 'batwing': 326, 'gown': 1752, 'bandage': 280, 'jahitan': 2114, 'wol': 4899, 'backless': 250, 'vneck': 4804, 'asimetris': 197, 'midi': 2847, 'halter': 1821, 'kupu': 2385, 'pinggang': 3421, 'belahan': 371, 'zaful': 4972, 'ikat': 2009, 'hem': 1881, 'rumbai': 3825, 'polyester': 3481, 'blazer': 501, 'formal': 1564, 'lipit': 2540, 'zanzea': 4977, 'kemben': 2259, 'lethe': 2495, 'adjustable': 44, 'stitch': 4268, 'shawl': 4022, 'mariah': 2693, 'luaran': 2609, 'kontras': 2353, 'spaghetti': 4203, 'skater': 4108, 'pullover': 3595, 'sandra': 3867, 'spandek': 4205, 'santai': 3872, 'ulo': 4691, 'turtleneck': 4661, 'rayon': 3667, 'bahu': 263, 'hollow': 1932, 'saten': 3882, 'velle': 4757, 'overall': 3203, 'flounce': 1538, 'scoop': 3901, 'etnik': 1365, 'tartan': 4415, 'clothes': 890, 'rajut': 3645, 'frill': 1590, 'crochet': 1043, 'kantor': 2212, 'cardigan': 742, 'bohemia': 556, 'bertali': 434, 'pagoda': 3229, 'berkerah': 411, 'pengiring': 3338, 'sambungan': 3857, 'tank': 4409, 'knit': 2332, 'harness': 1854, 'sleeved': 4131, 'pleat': 3453, 'kaftan': 2195, 'longdress': 2578, 'abaya': 7, 'lapel': 2426, 'hoodies': 1947, 'asymmetric': 205, 'hood': 1944, 'sweatshirt': 4363, 'slash': 4124, 'falbala': 1436, 'rok': 3791, 'idgb': 1999, 'vestido': 4770, 'sleting': 4134, 'robe': 3783, 'sweater': 4362, 'crop': 1044, 'romper': 3799, 'girlmaid': 1700, 'harajuku': 1845, 'selutut': 3953, 'strapless': 4282, 'thigh': 4521, 'vivian': 4797, 'fansmile': 1444, 'noiva': 3084, 'sequined': 3980, 'perban': 3356, 'vestidos': 4771, 'duyung': 1258, 'nanas': 3024, 'dicetak': 1164, 'tunik': 4654, 'ourlove': 3195, 'welove': 4862, 'furing': 1614, 'kondangan': 2349, 'ethnic': 1364, 'sundress': 4330, 'temperamen': 4449, 'perspective': 3380, 'clothe': 889, 'organza': 3175, 'kebaya': 2240, 'in': 2032, 'lookbook': 2588, 'manik': 2679, 'sastra': 3881, 'titik': 4555, 'ruched': 3820, 'ausfashion': 220, 'minimalis': 2875, 'abstrak': 13, 'berpisah': 429, 'nfw': 3062, 'lantern': 2425, 'prewedding': 3549, 'baggy': 256, 'jumper': 2182, 'drape': 1229, 'embroider': 1318, 'lentera': 2490, 'wsc': 4916, 'sepan': 3974, 'angin': 136, 'liar': 2503, 'fe': 1463, 'bibiq': 457, 'pinguin': 3423, 'hepburn': 1886, 'funny': 1612, 'letter': 2496, 'camis': 712, 'wst': 4917, 'knot': 2334, 'slit': 4142, 'abstract': 12, 'bodysuit': 554, 'asymmetrical': 206, 'plaid': 3442, 'bruklat': 632, 'busur': 680, 'business': 675, 'nightclub': 3070, 'simplee': 4089, 'berongga': 426, 'keluar': 2253, 'dinner': 1175, 'beavant': 356, 'dres': 1235, 'shein': 4026, 'ikatan': 2010, 'simpul': 4091, 'jala': 2117, 'sash': 3879, 'zipper': 4990, 'empire': 1327, 'minidress': 2874, 'ayunan': 238, 'partai': 3272, 'aline': 92, 'ladies': 2405, 'sheinside': 4027, 'halterneck': 1822, 'cloak': 885, 'alpe': 99, 'national': 3031, 'literary': 2559, 'ceruty': 792, 'neckline': 3045, 'klub': 2326, 'jean': 2139, 'koktail': 2341, 'hole': 1929, 'mozza': 2967, 'prada': 3528, 'blkg': 514, 'pasmina': 3277, 'porselen': 3504, 'camisole': 714, 'leagol': 2463, 'sheath': 4023, 'overlay': 3204, 'dashiki': 1092, 'butik': 681, 'sleepwear': 4129, 'cuff': 1058, 'criss': 1041, 'tunic': 4653, 'ootd': 3158, 'kutung': 2390, 'tg': 4509, 'belakang': 372, 'cheongsam': 823, 'qipao': 3617, 'benhur': 391, 'prince': 3559, 'pinup': 3428, 'yoins': 4961, 'pjg': 3439, 'alibato': 90, 'jacket': 2106, 'chest': 826, 'waisted': 4823, 'vest': 4769, 'fringe': 1591, 'jes': 2151, 'floor': 1533, 'welovedress': 4863, 'lubang': 2610, 'enfocus': 1337, 'splice': 4221, 'poliester': 3471, 'bossand': 582, 'menjelang': 2797, 'idhul': 2000, 'gatis': 1651, 'rockabilly': 3788, 'belah': 370, 'felicelife': 1468, 'corduroy': 980, 'suspender': 4354, 'drawstring': 1231, 'xxxl': 4940, 'rihana': 3765, 'fansmore': 1445, 'merajut': 2806, 'sederhana': 3926, 'gingham': 1694, 'comfy': 941, 'pleated': 3454, 'ankle': 143, 'baloteli': 272, 'tessae': 4504, 'jubah': 2176, 'geometris': 1676, 'fy': 1621, 'kasa': 2224, 'vessos': 4768, 'santa': 3871, 'claus': 869, 'tassel': 4418, 'rubiah': 3818, 'scallop': 3893, 'festa': 1476, 'gesper': 1681, 'mori': 2949, 'clothing': 891, 'cheap': 816, 'vertical': 4765, 'seaside': 3913, 'okechuku': 3140, 'temperament': 4450, 'piyama': 3437, 'bralette': 602, 'trouser': 4632, 'lattice': 2443, 'cami': 711, 'rompi': 3800, 'terompet': 4496, 'mustard': 3011, 'fleece': 1523, 'bolong': 564, 'costume': 995, 'medieval': 2756, 'femmy': 1474, 'horn': 1952, 'european': 1372, 'station': 4254, 'bigsize': 462, 'tegak': 4436, 'kerudung': 2277, 'jilbab': 2158, 'wolfis': 4900, 'gamiss': 1636, 'kenancy': 2263, 'oblong': 3122, 'jsk': 2173, 'thicken': 4520, 'woolen': 4908, 'playsuit': 3452, 'sofia': 4174, 'perca': 3357, 'bage': 255, 'gu': 1791, 'tanpell': 4412, 'yiiya': 4956, 'sulaman': 4320, 'pashmina': 3276, 'fold': 1554, 'kamisol': 2207, 'quarter': 3623, 'train': 4597, 'adln': 45, 'applique': 160, 'rib': 3761, 'mantel': 2686, 'geometri': 1674, 'span': 4204, 'yoh': 4959, 'leisure': 2477, 'kulia': 2379, 'army': 178, 'nasional': 3028, 'melar': 2767, 'balotelli': 273, 'misbee': 2893, 'modal': 2920, 'busty': 678, 'seragam': 3982, 'navi': 3039, 'printed': 3562, 'hippie': 1915, 'harimau': 1853, 'gajah': 1626, 'stitching': 4269, 'twotwinstyle': 4677, 'mencetak': 2787, 'kanza': 2214, 'highneck': 1904, 'kpop': 2364, 'allsize': 95, 'kaus': 2232, 'dasi': 1093, 'klok': 2324, 'lossky': 2594, 'trumpet': 4635, 'gap': 1640, 'singlet': 4098, 'keyhole': 2286, 'finejo': 1495, 'personality': 3379, 'audrey': 214, 'bisnis': 482, 'xxxxxxl': 4942, 'ulzzang': 4700, 'feminina': 1471, 'choker': 837, 'astro': 202, 'tanktop': 4410, 'beachwear': 343, 'auswomen': 222, 'balotelly': 274, 'cheongsams': 824, 'viscose': 4788, 'tosibo': 4583, 'ekor': 1294, 'clubwear': 894, 'pinggul': 3422, 'renang': 3724, 'bride': 613, 'bergaris': 403, 'jas': 2133, 'strappy': 4283, 'coksu': 910, 'tshirt': 4637, 'banquet': 288, 'roberto': 3784, 'nightdress': 3071, 'nightgown': 3072, 'marun': 2705, 'olivia': 3148, 'mock': 2918, 'raglan': 3642, 'broklat': 625, 'manset': 2684, 'titan': 4553, 'realpic': 3677, 'bludru': 530, 'crepe': 1035, 'hewan': 1892, 'fork': 1562, 'pendulum': 3330, 'dressv': 1239, 'valentina': 4743, 'vl': 4801, 'kulot': 2382, 'lilit': 2521, 'plunge': 3459, 'legging': 2474, 'fitness': 1508, 'yoga': 4958, 'college': 917, 'bowknot': 593, 'diana': 1161, 'inner': 2056, 'xxxxl': 4941, 'turndown': 4658, 'rivet': 3778, 'pohon': 3467, 'teratur': 4464, 'african': 52, 'notch': 3093, 'della': 1126, 'bat': 311, 'twiscone': 4672, 'tide': 4530, 'arumi': 189, 'dresse': 1237, 'lining': 2531, 'kostum': 2362, 'moscrepe': 2955, 'savina': 3887, 'umrah': 4705, 'ceruti': 791, 'loft': 2568, 'balon': 271, 'ged': 1660, 'rempel': 3722, 'mengacak': 2790, 'ifs': 2004, 'streetwear': 4287, 'pergi': 3366, 'guess': 1800, 'berlengan': 418, 'kiara': 2294, 'punk': 3601, 'berpayet': 428, 'vadim': 4742, 'gantung': 1639, 'boyfriend': 596, 'dalaman': 1076, 'novia': 3101, 'flowy': 1542, 'cutout': 1067, 'outfit': 3199, 'musik': 3006, 'ramus': 3654, 'filum': 1492, 'ablife': 10, 'bomfash': 568, 'schoolgirl': 3900, 'sweter': 4366, 'embroidered': 1319, 'nikah': 3074, 'cabe': 693, 'tenun': 4460, 'shir': 4041, 'berlipat': 420, 'swimwear': 4367, 'gaul': 1652, 'kawat': 2235, 'bermotif': 424, 'rom': 3795, 'oldnavy': 3145, 'yohi': 4960, 'buckle': 648, 'marron': 2700, 'acidwomen': 23, 'brief': 616, 'canda': 720, 'paisley': 3232, 'vivo': 4799, 'bawahan': 329, 'missord': 2896, 'islamic': 2095, 'ramadan': 3649, 'folk': 1556, 'merak': 2807, 'syar': 4373, 'dongker': 1217, 'dansa': 1082, 'crewneck': 1037, 'jahit': 2113, 'preppy': 3544, 'mayung': 2743, 'chain': 801, 'tomtailor': 4565, 'port': 3505, 'gil': 1689, 'sleeves': 4133, 'berkerudung': 412, 'saleh': 3847, 'berenda': 401, 'jangkar': 2125, 'grafis': 1763, 'meter': 2828, 'longshirt': 2582, 'eam': 1265, 'acara': 17, 'qizhan': 3618, 'amabilis': 105, 'hzl': 1987, 'berlapis': 417, 'oversized': 3206, 'early': 1267, 'krah': 2366, 'rl': 3779, 'bersilang': 433, 'zalia': 4975, 'eks': 1295, 'causal': 768, 'yc': 4950, 'honor': 1943, 'muitobom': 2981, 'lonceng': 2574, 'rusa': 3828, 'cfw': 797, 'colrovie': 929, 'ins': 2058, 'lycra': 2639, 'oblique': 3121, 'space': 4201, 'snakeskin': 4163, 'meaneor': 2751, 'smock': 4156, 'bf': 448, 'etnis': 1366, 'cowl': 1016, 'knitwear': 2333, 'hooded': 1945, 'navel': 3038, 'melubangi': 2773, 'abg': 8, 'jfashion': 2156, 'sablon': 3829, 'fendi': 1475, 'berpakaian': 427, 'hijabers': 1908, 'kasih': 2225, 'ken': 2262, 'sepeda': 3975, 'kardigan': 2220, 'hm': 1923, 'berdiri': 400, 'twotone': 4676, 'syal': 4371, 'bellsleeve': 381, 'maxydress': 2737, 'hook': 1948, 'uniqlo': 4717, 'dressgirls': 1238, 'nightwear': 3073, 'plisket': 3455, 'selendang': 3944, 'rip': 3772, 'fmd': 1548, 'slimfit': 4138, 'outerwear': 3198, 'aussexy': 221, 'poloshirt': 3479, 'zeagoo': 4981, 'bendera': 388, 'hearsbeauty': 1872, 'sutera': 4357, 'kenzo': 2266, 'babyterry': 245, 'amazon': 110, 'striped': 4294, 'slub': 4144, 'baseball': 307, 'textured': 4508, 'colorblock': 919, 'sobek': 4172, 'pq': 3527, 'portrait': 3507, 'kem': 2255, 'int': 2067, 'berkancing': 409, 'joker': 2165, 'longtop': 2584, 'gda': 1658, 'hundred': 1973, 'longsleeve': 2583, 'tops': 4578, 'twistcone': 4674, 'jump': 2181, 'reglan': 3707, 'xmas': 4929, 'underwear': 4711, 'xiaozhainv': 4924, 'turquoise': 4659, 'flowery': 1541, 'mote': 2956, 'acute': 31, 'casua': 758, 'workwear': 4911, 'surat': 4349, 'peacock': 3297, 'necklace': 3044, 'yard': 4947, 'dolman': 1214, 'divide': 1201, 'horizontal': 1951, 'ultrathin': 4699, 'lk': 2563, 'blaster': 499, 'catton': 766, 'mujer': 2982, 'tgn': 4510, 'sle': 4125, 'pundak': 3599, 'leotard': 2492, 'distro': 1197, 'cowboy': 1015, 'trompet': 4628, 'mdr': 2749, 'songket': 4186, 'io': 2079, 'switch': 4369, 'rhamadan': 3758, 'crane': 1023, 'oneck': 3152, 'vertikal': 4766, 'lav': 2450, 'ic': 1991, 'fh': 1481, 'fanala': 1441, 'vioree': 4784, 'fatmawati': 1457, 'log': 2569, 'pajama': 3233, 'panty': 3259, 'clot': 887, 'prancis': 3531, 'bandeau': 281, 'jatuh': 2134, 'nevada': 3056, 'kaktus': 2202, 'outwear': 3201, 'umur': 4707, 'camisol': 713, 'flanel': 1516, 'grs': 1786, 'brenda': 610, 'batman': 318, 'ssd': 4239, 'mineola': 2868, 'mount': 2963, 'rantai': 3657, 'grip': 1781, 'bodyfit': 553, 'vina': 4780, 'nosh': 3092, 'cowo': 1017, 'toyobo': 4592, 'beff': 365, 'esprit': 1358, 'polosan': 3478, 'manoershop': 2683, 'sekolah': 3941, 'gym': 1804, 'xs': 4936, 'longhand': 2580, 'commuter': 943, 'fishnet': 1505, 'jadul': 2111, 'tt': 4639, 'gudan': 1795, 'bj': 484, 'qin': 3616, 'slee': 4126, 'blouses': 526, 'loreng': 2592, 'designesty': 1145, 'rt': 3816, 'mmc': 2909, 'midriff': 2849, 'robot': 3785, 'champion': 804, 'view': 4779, 'plug': 3457, 'temper': 4448, 'kera': 2268, 'blusas': 536, 'gildan': 1692, 'alphabet': 101, 'infinity': 2047, 'lacoste': 2403, 'whats': 4866, 'gore': 1748, 'combad': 932, 'alien': 91, 'peromo': 3374, 'vr': 4816, 'oreo': 3172, 'dia': 1159, 'game': 1632, 'tshirts': 4638, 'zp': 4994, 'tally': 4399, 'susan': 4353, 'barcelona': 299, 'menyambut': 2802, 'leica': 2476, 'rear': 3679, 'seru': 3991, 'flip': 1530, 'motor': 2960, 'faremost': 1449, 'nova': 3099, 'ctr': 1053, 'os': 3190, 'ram': 3648, 'earphone': 1268, 'bluetooth': 532, 'headset': 1867, 'cable': 694, 'barca': 298, 'sist': 4102, 'bluse': 537, 'xiao': 4922, 'alto': 102, 'asesoris': 192, 'amd': 115, 'jetblack': 2153, 'polw': 3480, 'pique': 3430, 'blou': 523, 'croptop': 1045, 'cheapest': 818, 'kuyaku': 2391, 'gfp': 1684, 'ringer': 3770, 'fiesta': 1487, 'clotes': 888, 'eridu': 1350, 'tab': 4380, 'bralet': 601, 'mexx': 2830, 'aiqi': 66, 'blusa': 535, 'kenari': 2264, 'terhitzz': 4479, 'plsw': 3456, 'menebal': 2789, 'aape': 2, 'sorex': 4192, 'miguan': 2851, 'discoun': 1186, 'mobilpenyet': 2914, 'jimin': 2159, 'combed': 933, 'hero': 1890, 'cam': 708, 'layar': 2453, 'avenger': 230, 'gps': 1754, 'gorilla': 1749, 'stylus': 4305, 'stm': 4270, 'maaf': 2641, 'kerenn': 2271, 'tam': 4401, 'inci': 2036, 'moto': 2959, 'shockproof': 4045, 'php': 3401, 'elektronik': 1306, 'dvd': 1259, 'bazaar': 332, 'vivan': 4796, 'exstra': 1405, 'guru': 1803, 'gear': 1659, 'terpecaya': 4497, 'watch': 4843, 'dell': 1125, 'copy': 977, 'piton': 3433, 'garskin': 1649, 'sony': 4187, 'experia': 1398, 'lcd': 2457, 'redmi': 3688, 'torch': 4579, 'gsm': 1789, 'lenovo': 2487, 'nokia': 3085, 'hdc': 1862, 'quadcore': 3621, 'uag': 4680, 'armor': 177, 'infinix': 2048, 'hardcase': 1848, 'spek': 4213, 'xiomi': 4926, 'lte': 2608, 'internal': 2073, 'celluler': 780, 'wifi': 4879, 'oppo': 3161, 'andromax': 131, 'asus': 204, 'zenfone': 4984, 'zuk': 4997, 'xperia': 4932, 'docomo': 1208, 'softcase': 4176, 'rugged': 3822, 'sandisk': 3866, 'gamepad': 1633, 'remote': 3718, 'rakkipanda': 3647, 'sinyal': 4099, 'antena': 146, 'buzzer': 687, 'refurbish': 3704, 'xzs': 4944, 'evercoss': 1379, 'advan': 47, 'vandroid': 4748, 'wiko': 4880, 'dock': 1207, 'handphone': 1834, 'sein': 3937, 'otterbox': 3193, 'mito': 2899, 'touchscreen': 4589, 'nillkin': 3079, 'repeater': 3732, 'credit': 1032, 'aryastore': 190, 'huawei': 1968, 'digitizer': 1168, 'lumia': 2616, 'asha': 194, 'silent': 4076, 'headphone': 1866, 'audio': 213, 'adapter': 35, 'dualsim': 1248, 'fujitsu': 1601, 'nx': 3112, 'flipcover': 1532, 'imak': 2022, 'aquos': 167, 'genpro': 1671, 'fingerprint': 1497, 'invite': 2078, 'brutal': 635, 'polytron': 3482, 'lamsung': 2415, 'ahir': 61, 'tahunk': 4389, 'tyrex': 4679, 'motorola': 2961, 'ahkir': 62, 'microsd': 2842, 'blackmarket': 492, 'belih': 376, 'kindle': 2303, 'ebook': 1271, 'reader': 3672, 'lancar': 2417, 'anker': 142, 'powerline': 3523, 'coolpad': 975, 'data': 1095, 'gopro': 1747, 'symmetry': 4376, 'acer': 21, 'aspire': 201, 'remax': 3717, 'silakan': 4074, 'canon': 726, 'ericsson': 1349, 'aspen': 200, 'muluss': 2990, 'nexcom': 3059, 'nikon': 3077, 'lens': 2488, 'backdoor': 249, 'seruh': 3992, 'octa': 3127, 'blackview': 496, 'haier': 1813, 'bnob': 546, 'bezel': 447, 'macbook': 2646, 'retina': 3748, 'handsfree': 1836, 'axioo': 235, 'spigen': 4217, 'utamakan': 4735, 'antigores': 150, 'charging': 812, 'gempa': 1667, 'bridx': 615, 'birthshoop': 479, 'ipaky': 2084, 'cct': 770, 'mover': 2966, 'pixel': 3434, 'crt': 1048, 'autofocus': 226, 'flashdisk': 1519, 'razer': 3668, 'fonepad': 1558, 'garatis': 1643, 'duos': 1252, 'kredit': 2367, 'vizz': 4800, 'oneplus': 3153, 'ibox': 1989, 'gionee': 1696, 'router': 3812, 'bli': 509, 'unit': 4719, 'greenpeel': 1776, 'fullview': 1607, 'smartband': 4149, 'smartwatch': 4152, 'ipod': 2087, 'ipone': 2088, 'aukey': 215, 'anticrack': 149, 'maxtron': 2735, 'ritz': 3776, 'miui': 2900, 'nfc': 3061, 'padfone': 3227, 'radeon': 3638, 'tempered': 4452, 'priv': 3564, 'blackmatte': 494, 'pocophone': 3466, 'caterpillar': 761, 'batre': 320, 'keyboard': 2285, 'ponsel': 3489, 'hanphone': 1839, 'brandcode': 605, 'nexus': 3060, 'citycall': 859, 'grnsi': 1783, 'realme': 3676, 'intel': 2068, 'vga': 4772, 'legenda': 2473, 'rog': 3790, 'memori': 2779, 'ditoko': 1199, 'ulefone': 4690, 'redminote': 3689, 'rsim': 3815, 'cafele': 697, 'chuwi': 850, 'smartfren': 4150, 'casan': 750, 'ipd': 2085, 'batangan': 313, 'xr': 4935, 'everr': 1383, 'memang': 2774, 'baseus': 308, 'boskuu': 581, 'ringke': 3771, 'airpods': 70, 'zilla': 4988, 'sennheiser': 3965, 'fulset': 1608, 'zyrex': 4999, 'microsoft': 2844, 'nilkin': 3078, 'alcatel': 85, 'batt': 323, 'batere': 315, 'galaxi': 1628, 'erajaya': 1345, 'graphite': 1769, 'tough': 4590, 'apollo': 156, 'kuota': 2384, 'cdma': 772, 'otg': 3191, 'mifi': 2850, 'blaupunkt': 500, 'mediapad': 2753, 'gress': 1778, 'ideapad': 1998, 'kesing': 2281, 'imei': 2023, 'unlocked': 4724, 'simcard': 4086, 'backcover': 248, 'hubungi': 1970, 'bunyy': 667, 'flexibel': 1528, 'perekat': 3359, 'simtray': 4092, 'exacoat': 1390, 'himax': 1912, 'cht': 846, 'thinkpad': 4524, 'ultrabook': 4697, 'batrei': 321, 'cepatlah': 785, 'yx': 4970, 'dslr': 1245, 'unlock': 4723, 'distri': 1195, 'ultraslim': 4698, 'ramdhan': 3652, 'sidik': 4065, 'supercopy': 4340, 'doogee': 1218, 'srius': 4237, 'erafone': 1344, 'uhs': 4685, 'icherry': 1993, 'keyone': 2287, 'meizu': 2764, 'spacegrey': 4202, 'kingkong': 2305, 'arrows': 184, 'porsche': 3503, 'pintar': 3427, 'whasapp': 4865, 'bosku': 580, 'calandiva': 701, 'sihsuka': 4069, 'umidigi': 4703, 'ume': 4702, 'inchi': 2035, 'cctv': 771, 'carger': 744, 'adaptor': 36, 'verus': 4767, 'fullshet': 1605, 'output': 3200, 'pembayaran': 3316, 'bass': 310, 'mimax': 2863, 'zv': 4998, 'fullsett': 1604, 'hisense': 1917, 'catt': 765, 'amstrong': 126, 'candybar': 722, 'hammer': 1826, 'indoscreen': 2043, 'xpressmusic': 4934, 'urah': 4730, 'oukitel': 3194, 'voucher': 4813, 'folder': 1555, 'pesen': 3387, 'lansung': 2424, 'hdmi': 1864, 'mixersaturnus': 2903, 'modem': 2923, 'crf': 1038, 'likenew': 2519, 'zenpad': 4985, 'batrai': 319, 'internet': 2076, 'setahun': 3997, 'fromo': 1592, 'thinq': 4525, 'xioami': 4925, 'fhd': 1482, 'akg': 75, 'iring': 2089, 'walkman': 4827, 'rate': 3662, 'poco': 3465, 'qwerty': 3632, 'aldo': 86, 'hape': 1843, 'sdhc': 3908, 'mdy': 2750, 'handpone': 1835, 'warranty': 4840, 'claim': 861, 'passport': 3279, 'rekondisi': 3713, 'cpo': 1020, 'hendphone': 1884, 'icloud': 1994, 'mulusss': 2991, 'signal': 4067, 'blackmate': 493, 'plasma': 3445, 'tongsis': 4569, 'windows': 4886, 'octacore': 3128, 'cocose': 904, 'yunit': 4968, 'nvidia': 3111, 'xtream': 4937, 'jabra': 2104, 'zeta': 4987, 'rearth': 3680, 'vgen': 4773, 'nubia': 3104, 'paperwhite': 3263, 'penguat': 3340, 'xpress': 4933, 'gransi': 1766, 'external': 1408, 'treq': 4617, 'zte': 4996, 'flipcase': 1531, 'brancode': 603, 'gaming': 1634, 'hikaru': 1910, 'silahkang': 4073, 'celeron': 777, 'reatestore': 3681, 'softshell': 4177, 'jbl': 2137, 'letv': 2497, 'yng': 4957, 'leagoo': 2464, 'joystick': 2172, 'telepon': 4440, 'lifeproof': 2509, 'konektor': 2351, 'tambah': 4402, 'lollipop': 2573, 'blackk': 491, 'capdase': 732, 'deepsea': 1108, 'screenguard': 3903, 'itab': 2099, 'uneed': 4712, 'nougat': 3096, 'spy': 4232, 'mimix': 2864, 'nxt': 3113, 'lecet': 2470, 'smarphone': 4147, 'arrivalls': 182, 'vooc': 4812, 'holster': 1935, 'chet': 827, 'evercross': 1380, 'fuze': 1618, 'indosat': 2042, 'monitor': 2941, 'blade': 497, 'vanbook': 4747, 'loudspeaker': 2599, 'senter': 3972, 'mocolo': 2919, 'tizen': 4556, 'biasakan': 456, 'bertanya': 435, 'microsdhc': 2843, 'lunatik': 2626, 'taktik': 4394, 'xcom': 4920, 'oriii': 3185, 'garmin': 1647, 'skrin': 4120, 'pembaikan': 3315, 'mipad': 2887, 'dipesan': 1181, 'toshiba': 4582, 'gudangg': 1797, 'alloy': 94, 'menjau': 2796, 'disokon': 1192, 'maxpro': 2734, 'minote': 2882, 'receiver': 3683, 'armband': 176, 'romo': 3798, 'delkin': 1124}\n"
     ]
    }
   ],
   "source": [
    "print(Tfidf_vect.vocabulary_)"
   ]
  },
  {
   "cell_type": "markdown",
   "metadata": {},
   "source": [
    "### kNN"
   ]
  },
  {
   "cell_type": "code",
   "execution_count": 17,
   "metadata": {},
   "outputs": [
    {
     "name": "stdout",
     "output_type": "stream",
     "text": [
      "KNN Accuracy Score ->  6.92251918893917\n"
     ]
    }
   ],
   "source": [
    "# fit the training dataset on the classifier\n",
    "KNN = KNeighborsClassifier(n_neighbors = 3)\n",
    "KNN.fit(train_X_Tfidf, train_Y)\n",
    "\n",
    "# predict the labels on validation dataset\n",
    "predictions_KNN = KNN.predict(test_X_Tfidf)\n",
    "\n",
    "# use accuracy_score function to get accuracy\n",
    "print(\"KNN Accuracy Score -> \", accuracy_score(predictions_KNN, test_Y)*100)"
   ]
  },
  {
   "cell_type": "code",
   "execution_count": 18,
   "metadata": {},
   "outputs": [
    {
     "name": "stdout",
     "output_type": "stream",
     "text": [
      "KNN V2 Accuracy Score ->  10.033752531439857\n"
     ]
    }
   ],
   "source": [
    "# fit the training dataset on the classifier\n",
    "KNN2 = KNeighborsClassifier(n_neighbors = 45)\n",
    "KNN2.fit(train_X_Tfidf, train_Y)\n",
    "\n",
    "# predict the labels on validation dataset\n",
    "predictions_KNN2 = KNN2.predict(test_X_Tfidf)\n",
    "\n",
    "# use accuracy_score function to get accuracy\n",
    "print(\"KNN V2 Accuracy Score -> \", accuracy_score(predictions_KNN2, test_Y)*100)"
   ]
  },
  {
   "cell_type": "code",
   "execution_count": 19,
   "metadata": {},
   "outputs": [
    {
     "name": "stdout",
     "output_type": "stream",
     "text": [
      "KNN V3 Accuracy Score ->  7.52006400480036\n"
     ]
    }
   ],
   "source": [
    "# fit the training dataset on the classifier\n",
    "KNN3 = KNeighborsClassifier(n_neighbors = 7)\n",
    "KNN3.fit(train_X_Tfidf, train_Y)\n",
    "\n",
    "# predict the labels on validation dataset\n",
    "predictions_KNN3 = KNN3.predict(test_X_Tfidf)\n",
    "\n",
    "# use accuracy_score function to get accuracy\n",
    "print(\"KNN V3 Accuracy Score -> \", accuracy_score(predictions_KNN3, test_Y)*100)"
   ]
  },
  {
   "cell_type": "code",
   "execution_count": 20,
   "metadata": {},
   "outputs": [
    {
     "name": "stdout",
     "output_type": "stream",
     "text": [
      "KNN V4 Accuracy Score ->  12.06690501787634\n"
     ]
    }
   ],
   "source": [
    "# fit the training dataset on the classifier\n",
    "KNN4 = KNeighborsClassifier(n_neighbors = 350)\n",
    "KNN4.fit(train_X_Tfidf, train_Y)\n",
    "\n",
    "# predict the labels on validation dataset\n",
    "predictions_KNN4 = KNN4.predict(test_X_Tfidf)\n",
    "\n",
    "# use accuracy_score function to get accuracy\n",
    "print(\"KNN V4 Accuracy Score -> \", accuracy_score(predictions_KNN4, test_Y)*100)"
   ]
  },
  {
   "cell_type": "markdown",
   "metadata": {},
   "source": [
    "### Logistic Regression"
   ]
  },
  {
   "cell_type": "markdown",
   "metadata": {},
   "source": [
    "https://stackoverflow.com/questions/38077190/how-to-increase-the-model-accuracy-of-logistic-regression-in-scikit-python\n",
    "\n",
    "https://scikit-learn.org/stable/modules/generated/sklearn.linear_model.LogisticRegression.html"
   ]
  },
  {
   "cell_type": "code",
   "execution_count": 8,
   "metadata": {},
   "outputs": [
    {
     "name": "stderr",
     "output_type": "stream",
     "text": [
      "/Users/laiyanjean/anaconda3/lib/python3.7/site-packages/sklearn/linear_model/logistic.py:433: FutureWarning: Default solver will be changed to 'lbfgs' in 0.22. Specify a solver to silence this warning.\n",
      "  FutureWarning)\n",
      "/Users/laiyanjean/anaconda3/lib/python3.7/site-packages/sklearn/linear_model/logistic.py:460: FutureWarning: Default multi_class will be changed to 'auto' in 0.22. Specify the multi_class option to silence this warning.\n",
      "  \"this warning.\", FutureWarning)\n"
     ]
    },
    {
     "name": "stdout",
     "output_type": "stream",
     "text": [
      "Logistic Regression Accuracy Score ->  70.76630747306048\n"
     ]
    }
   ],
   "source": [
    "LogRegression = LogisticRegression()\n",
    "LogRegression.fit(train_X_Tfidf, train_Y)\n",
    "\n",
    "# predict the labels on validation dataset\n",
    "predictions_LogRegression = LogRegression.predict(test_X_Tfidf)\n",
    "\n",
    "# use accuracy_score function to get the accuracy\n",
    "print(\"Logistic Regression Accuracy Score -> \", accuracy_score(y_true=test_Y, y_pred=predictions_LogRegression)*100)\n",
    "\n",
    "# final result\n",
    "# Logistic Regression Accuracy Score ->  70.76630747306048"
   ]
  },
  {
   "cell_type": "code",
   "execution_count": 7,
   "metadata": {},
   "outputs": [
    {
     "name": "stderr",
     "output_type": "stream",
     "text": [
      "/Users/laiyanjean/anaconda3/lib/python3.7/site-packages/sklearn/linear_model/logistic.py:433: FutureWarning: Default solver will be changed to 'lbfgs' in 0.22. Specify a solver to silence this warning.\n",
      "  FutureWarning)\n",
      "/Users/laiyanjean/anaconda3/lib/python3.7/site-packages/sklearn/linear_model/logistic.py:460: FutureWarning: Default multi_class will be changed to 'auto' in 0.22. Specify the multi_class option to silence this warning.\n",
      "  \"this warning.\", FutureWarning)\n"
     ]
    },
    {
     "name": "stdout",
     "output_type": "stream",
     "text": [
      "Logistic Regression V2 Accuracy Score ->  68.47013526014452\n"
     ]
    }
   ],
   "source": [
    "# optimizing the Logistic Regression Model\n",
    "\n",
    "# account for class imbalances (if any)\n",
    "LogRegression2 = LogisticRegression(class_weight = 'balanced')\n",
    "LogRegression2.fit(train_X_Tfidf, train_Y)\n",
    "\n",
    "# predict the labels on validation dataset\n",
    "predictions_LogRegression2 = LogRegression2.predict(test_X_Tfidf)\n",
    "\n",
    "# use accuracy_score function to get the accuracy\n",
    "print(\"Logistic Regression V2 Accuracy Score -> \", accuracy_score(y_true=test_Y, y_pred=predictions_LogRegression2)*100)\n",
    "\n",
    "# final result\n",
    "# Logistic Regression V2 Accuracy Score ->  68.47013526014452"
   ]
  },
  {
   "cell_type": "code",
   "execution_count": 8,
   "metadata": {},
   "outputs": [
    {
     "name": "stdout",
     "output_type": "stream",
     "text": [
      "Logistic Regression V3 Accuracy Score ->  71.07633072480436\n"
     ]
    }
   ],
   "source": [
    "# optimizing the Logistic Regression Model\n",
    "\n",
    "# changing the solver from the default of 'liblinear' which does not handle multinomial loss\n",
    "# note that 'lbfgs' generates a convergence warning\n",
    "LogRegression3 = LogisticRegression(solver = 'newton-cg')\n",
    "LogRegression3.fit(train_X_Tfidf, train_Y)\n",
    "\n",
    "# predict the labels on validation dataset\n",
    "predictions_LogRegression3 = LogRegression3.predict(test_X_Tfidf)\n",
    "\n",
    "# use accuracy_score function to get the accuracy\n",
    "print(\"Logistic Regression V3 Accuracy Score -> \", accuracy_score(y_true=test_Y, y_pred=predictions_LogRegression3)*100)\n",
    "\n",
    "# final result\n",
    "# Logistic Regression V3 Accuracy Score ->  71.07633072480436"
   ]
  },
  {
   "cell_type": "code",
   "execution_count": 10,
   "metadata": {},
   "outputs": [
    {
     "name": "stdout",
     "output_type": "stream",
     "text": [
      "Logistic Regression V4 Accuracy Score ->  71.17683826286971\n"
     ]
    }
   ],
   "source": [
    "# optimizing the Logistic Regression Model\n",
    "\n",
    "# adding multi_class = 'auto'\n",
    "LogRegression4 = LogisticRegression(solver = 'newton-cg', multi_class = 'auto')\n",
    "LogRegression4.fit(train_X_Tfidf, train_Y)\n",
    "\n",
    "# predict the labels on validation dataset\n",
    "predictions_LogRegression4 = LogRegression4.predict(test_X_Tfidf)\n",
    "\n",
    "# use accuracy_score function to get the accuracy\n",
    "print(\"Logistic Regression V4 Accuracy Score -> \", accuracy_score(y_true=test_Y, y_pred=predictions_LogRegression4)*100)\n",
    "\n",
    "# final result\n",
    "# Logistic Regression V4 Accuracy Score ->  71.17683826286971"
   ]
  },
  {
   "cell_type": "code",
   "execution_count": null,
   "metadata": {},
   "outputs": [],
   "source": [
    "# optimizing the Logistic Regression Model\n",
    "\n",
    "# changing the solver from the default of 'liblinear' \n",
    "LogRegression5 = LogisticRegression(solver = 'saga', multi_class = 'auto')\n",
    "LogRegression5.fit(train_X_Tfidf, train_Y)\n",
    "\n",
    "# predict the labels on validation dataset\n",
    "predictions_LogRegression5 = LogRegression5.predict(test_X_Tfidf)\n",
    "\n",
    "# Use accuracy_score function to get the accuracy\n",
    "print(\"Logistic Regression V5 Accuracy Score -> \", accuracy_score(y_true=test_Y, y_pred=predictions_LogRegression5)*100)\n",
    "\n",
    "# final result\n",
    "# Logistic Regression V5 Accuracy Score ->  71.1803385253894"
   ]
  },
  {
   "cell_type": "code",
   "execution_count": 16,
   "metadata": {},
   "outputs": [],
   "source": [
    "import pickle\n",
    "filename_LogReg = 'LogReg_SagaSolver.sav'\n",
    "pickle.dump(LogRegression5, open(filename_LogReg, 'wb'))"
   ]
  },
  {
   "cell_type": "code",
   "execution_count": 12,
   "metadata": {},
   "outputs": [
    {
     "name": "stdout",
     "output_type": "stream",
     "text": [
      "Logistic Regression V6 Accuracy Score ->  71.17733830037253\n"
     ]
    }
   ],
   "source": [
    "# optimizing the Logistic Regression Model\n",
    "\n",
    "# changing the solver from the default of 'liblinear' \n",
    "LogRegression6 = LogisticRegression(solver = 'sag', multi_class = 'auto')\n",
    "LogRegression6.fit(train_X_Tfidf, train_Y)\n",
    "\n",
    "# predict the labels on validation dataset\n",
    "predictions_LogRegression6 = LogRegression6.predict(test_X_Tfidf)\n",
    "\n",
    "# Use accuracy_score function to get the accuracy\n",
    "print(\"Logistic Regression V6 Accuracy Score -> \", accuracy_score(y_true=test_Y, y_pred=predictions_LogRegression6)*100)\n",
    "\n",
    "# final result\n",
    "# Logistic Regression V6 Accuracy Score -> 71.17733830037253"
   ]
  },
  {
   "cell_type": "code",
   "execution_count": 12,
   "metadata": {},
   "outputs": [
    {
     "data": {
      "text/plain": [
       "array([[ 440,   22,   69, ...,    0,    0,    0],\n",
       "       [  29, 5080,   50, ...,    0,    0,    0],\n",
       "       [  36,   26, 2848, ...,    0,    0,    0],\n",
       "       ...,\n",
       "       [   0,    0,    0, ...,   29,    0,    0],\n",
       "       [   0,    0,    0, ...,    0,   25,    0],\n",
       "       [   0,    0,    0, ...,    0,    0,    0]])"
      ]
     },
     "execution_count": 12,
     "metadata": {},
     "output_type": "execute_result"
    }
   ],
   "source": [
    "from sklearn import metrics\n",
    "cnf_matrix = metrics.confusion_matrix(test_Y, predictions_LogRegression)\n",
    "cnf_matrix"
   ]
  },
  {
   "cell_type": "markdown",
   "metadata": {},
   "source": [
    "### SVM"
   ]
  },
  {
   "cell_type": "code",
   "execution_count": null,
   "metadata": {},
   "outputs": [],
   "source": [
    "# fit the training dataset on the classifier\n",
    "SVM = svm.SVC(C=1.0, kernel='linear', degree=3, gamma='auto')\n",
    "SVM.fit(train_X_Tfidf, train_Y)\n",
    "\n",
    "# predict the labels on validation dataset\n",
    "predictions_SVM = SVM.predict(test_X_Tfidf)\n",
    "\n",
    "# Use accuracy_score function to get the accuracy\n",
    "print(\"SVM Accuracy Score -> \", accuracy_score(predictions_SVM, test_Y)*100)"
   ]
  },
  {
   "cell_type": "code",
   "execution_count": null,
   "metadata": {},
   "outputs": [],
   "source": [
    "# fit the training dataset on the classifier\n",
    "SVM2 = svm.SVC(C=1.0, kernel='linear', degree=3, gamma='auto')\n",
    "SVM2.fit(train_X_Tfidf, train_Y)\n",
    "\n",
    "# predict the labels on validation dataset\n",
    "predictions_SVM2 = SVM2.predict(test_X_Tfidf)\n",
    "\n",
    "# Use accuracy_score function to get the accuracy\n",
    "print(\"SVM V2 Accuracy Score -> \", accuracy_score(predictions_SVM, test_Y)*100)"
   ]
  },
  {
   "cell_type": "code",
   "execution_count": null,
   "metadata": {},
   "outputs": [],
   "source": []
  },
  {
   "cell_type": "markdown",
   "metadata": {},
   "source": [
    "### Loading and Using the Models"
   ]
  },
  {
   "cell_type": "code",
   "execution_count": 9,
   "metadata": {},
   "outputs": [],
   "source": [
    "# Open cleaned test dataframe\n",
    "with open('test_df_cleaned.pkl', 'rb') as test:\n",
    "    test_df = pickle.load(test)"
   ]
  },
  {
   "cell_type": "code",
   "execution_count": 12,
   "metadata": {},
   "outputs": [],
   "source": [
    "test_Tfidf = Tfidf_vect.transform(test_df['title_final'])"
   ]
  },
  {
   "cell_type": "code",
   "execution_count": 13,
   "metadata": {},
   "outputs": [],
   "source": [
    "with open('LogReg_SagaSolver.sav', 'rb') as f:\n",
    "    LogReg_model = pickle.load(f)"
   ]
  },
  {
   "cell_type": "code",
   "execution_count": 14,
   "metadata": {},
   "outputs": [],
   "source": [
    "# predict categories using the SVM model\n",
    "predictions_LogReg = LogReg_model.predict(test_Tfidf)"
   ]
  },
  {
   "cell_type": "code",
   "execution_count": 15,
   "metadata": {},
   "outputs": [
    {
     "data": {
      "text/plain": [
       "numpy.ndarray"
      ]
     },
     "execution_count": 15,
     "metadata": {},
     "output_type": "execute_result"
    }
   ],
   "source": [
    "type(predictions_LogReg)"
   ]
  },
  {
   "cell_type": "code",
   "execution_count": 16,
   "metadata": {},
   "outputs": [
    {
     "data": {
      "text/plain": [
       "array([ 5,  5,  5, ..., 35, 33, 34])"
      ]
     },
     "execution_count": 16,
     "metadata": {},
     "output_type": "execute_result"
    }
   ],
   "source": [
    "predictions_LogReg"
   ]
  },
  {
   "cell_type": "code",
   "execution_count": 17,
   "metadata": {},
   "outputs": [
    {
     "data": {
      "text/plain": [
       "172402"
      ]
     },
     "execution_count": 17,
     "metadata": {},
     "output_type": "execute_result"
    }
   ],
   "source": [
    "len(predictions_LogReg)"
   ]
  },
  {
   "cell_type": "code",
   "execution_count": 18,
   "metadata": {},
   "outputs": [],
   "source": [
    "test_df['Category'] = predictions_LogReg"
   ]
  },
  {
   "cell_type": "code",
   "execution_count": 19,
   "metadata": {},
   "outputs": [],
   "source": [
    "import matplotlib.pyplot as plt"
   ]
  },
  {
   "cell_type": "code",
   "execution_count": 20,
   "metadata": {},
   "outputs": [
    {
     "data": {
      "image/png": "[encoded data removed]",
      "text/plain": [
       "<Figure size 432x288 with 1 Axes>"
      ]
     },
     "metadata": {
      "needs_background": "light"
     },
     "output_type": "display_data"
    }
   ],
   "source": [
    "# View the predictions\n",
    "fig, axl = plt.subplots()\n",
    "axl.set_title(\"Category Predictions\")\n",
    "axl.set_ylabel(\"Count\")\n",
    "axl.set_xlabel(\"Category\")\n",
    "test_df.Category.value_counts().sort_index().plot(ax = axl, marker = '.')\n",
    "test_df['Category'] = predictions_LogReg"
   ]
  },
  {
   "cell_type": "code",
   "execution_count": 22,
   "metadata": {},
   "outputs": [],
   "source": [
    "test_df2 = test_df.loc[:, ['itemid', 'Category']]"
   ]
  },
  {
   "cell_type": "code",
   "execution_count": 24,
   "metadata": {},
   "outputs": [],
   "source": [
    "test_df2.to_csv(\"submission.csv\", index=False)"
   ]
  }
 ],
 "metadata": {
  "kernelspec": {
   "display_name": "Python 3",
   "language": "python",
   "name": "python3"
  },
  "language_info": {
   "codemirror_mode": {
    "name": "ipython",
    "version": 3
   },
   "file_extension": ".py",
   "mimetype": "text/x-python",
   "name": "python",
   "nbconvert_exporter": "python",
   "pygments_lexer": "ipython3",
   "version": "3.7.1"
  }
 },
 "nbformat": 4,
 "nbformat_minor": 2
}
